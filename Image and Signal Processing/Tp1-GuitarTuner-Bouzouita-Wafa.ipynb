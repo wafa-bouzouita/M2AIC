{
 "cells": [
  {
   "cell_type": "markdown",
   "metadata": {},
   "source": [
    "# Guitar tuner\n",
    "\n",
    "-The aim of this practical work (TP) is to program a guitar tuner algorithm of a musical signal played with guitar. We will determine the fundamental frequency of a given single notes, then we will identify the note played. \n",
    "\n",
    "-The guitar notes and corresponding frequencies are :\n",
    "\n",
    "* E1 : 329.63 Hz\n",
    "* B2 : 246.94 Hz\n",
    "* G3 : 196.00 Hz\n",
    "* D4 : 146.83 Hz\n",
    "* A5 : 110.00 Hz\n",
    "* E6 : 82.41 Hz\n",
    "\n",
    "-The units of tuning accuracy are cents. The values of 1 cent for accuracy of each string are : 0.15, 0.15, 0.15, 0.08, 0.08, 0.04."
   ]
  },
  {
   "cell_type": "code",
   "execution_count": 1,
   "metadata": {
    "collapsed": true
   },
   "outputs": [],
   "source": [
    "import matplotlib.pyplot as plt\n",
    "import numpy as np\n",
    "from scipy.io import wavfile \n",
    "from pydub import AudioSegment\n",
    "from pylab import copy\n",
    "from scipy.fftpack import fftshift, fft"
   ]
  },
  {
   "cell_type": "code",
   "execution_count": 2,
   "metadata": {},
   "outputs": [
    {
     "name": "stdout",
     "output_type": "stream",
     "text": [
      "3.6.3 |Anaconda, Inc.| (default, Oct 13 2017, 12:02:49) \n",
      "[GCC 7.2.0]\n"
     ]
    }
   ],
   "source": [
    "import sys\n",
    "print(sys.version)"
   ]
  },
  {
   "cell_type": "markdown",
   "metadata": {},
   "source": [
    "## Spectral Analysis\n",
    "\n",
    "In the first part, I defined a function that determine the power spectrum of the signal. In the second part, I construted two different functions which determinize the fundamental frequency.\n"
   ]
  },
  {
   "cell_type": "markdown",
   "metadata": {},
   "source": [
    "### Power spectrum of the signal"
   ]
  },
  {
   "cell_type": "code",
   "execution_count": 3,
   "metadata": {
    "collapsed": true
   },
   "outputs": [],
   "source": [
    "def power_spectrum(data,Fs):\n",
    "       \n",
    "    data_fft = fft(data)\n",
    "    \n",
    "    Freq = np.linspace(0,Fs/2,len(data_fft)/2)\n",
    "    data_spectrum = np.fft.fftshift(abs(data_fft)**2)[len(data_fft)//2:]\n",
    "\n",
    "    # visualization of the signal (temporal domain)\n",
    "    plt.figure(1)\n",
    "    plt.plot(np.linspace(0,sound.duration_seconds,len(data)),data)\n",
    "    plt.title(\"Signal\")\n",
    "    plt.show()\n",
    "    \n",
    "    # visualization of the power spectrum of the signal\n",
    "    #plt.figure(2)\n",
    "    #plt.plot(Freq,data_spectrum)\n",
    "    #plt.title('Power spectrum of the signal')\n",
    "    #plt.show()\n",
    "\n",
    "    return(data_spectrum,Freq)"
   ]
  },
  {
   "cell_type": "markdown",
   "metadata": {},
   "source": [
    "### First Method\n",
    "\n",
    "Spectrum contains energy mostly at integer multiples of the fundamental frequency. The idea of this method is to search about the interval of frequencies that gives the maximum of energy and then calculate the fundamental frequency as the frequency of the maximum value of the spectrum in this interval. This method works well, it identify the played accurate to within +/-3 cents."
   ]
  },
  {
   "cell_type": "code",
   "execution_count": 4,
   "metadata": {
    "collapsed": true
   },
   "outputs": [],
   "source": [
    "def fundamental_frequency_Method_1(data_spectrum,Freq):\n",
    "    \n",
    "    # we compute the frequency corrresponding to the maximum value of the power spectrum\n",
    "    fmax = Freq[np.argmax(data_spectrum)]\n",
    "    \n",
    "    # we only consider the frequencies that are smaller than \"fmax\"\n",
    "    Data_spectrum = data_spectrum[Freq<fmax]\n",
    "    \n",
    "    # we compute the value of index corresponding to the maximum value of \n",
    "    # the new power spectrum ( which only consider frequencies that are smaller than \"fmax\")\n",
    "    n= np.argmax(Data_spectrum)\n",
    "    \n",
    "    # determination of the fundamental frequency : we search the largest \n",
    "    # power/amplitude within Magnitude and its index in the array\n",
    "    # we choose an interval composed of \"nbr\" points, we calculate the integral \n",
    "    # of power spectrum function among this interval. we chose the interval giving the maximum\n",
    "    # value of integral. and then we choose the frequency corresponding to the maximum of the\n",
    "    # power spectrum function in this interval\n",
    "    \n",
    "    nbr = 25 #number of points of the interval\n",
    "    summ=0 # \n",
    "    \n",
    "    while n>10:\n",
    "        aux = 0\n",
    "        j = n- nbr\n",
    "    \n",
    "        # calculate the integral of power spectrum among the interval = [j, n]\n",
    "        for i in range(j,n+1):\n",
    "            aux = aux +  Data_spectrum[i]\n",
    "            \n",
    "        if aux > summ:\n",
    "            summ = aux \n",
    "            jj = j \n",
    "            nn = n\n",
    "            \n",
    "        n =n -1   # to translate the interval\n",
    "\n",
    "    imax= np.argmax(Data_spectrum[jj:nn+1])+jj # index of the fundamental frequency\n",
    "    \n",
    "    fe = Freq[imax] #fundamental frequency\n",
    "    \n",
    "    return fe"
   ]
  },
  {
   "cell_type": "markdown",
   "metadata": {},
   "source": [
    "### Second method"
   ]
  },
  {
   "cell_type": "code",
   "execution_count": 5,
   "metadata": {
    "collapsed": true
   },
   "outputs": [],
   "source": [
    "def fundamental_frequency_Method_2(data_spectrum, Freq):\n",
    "    \"\"\"\n",
    "    Estimate frequency using harmonic product spectrum (HPS)\n",
    "    \"\"\"\n",
    "\n",
    "    # harmonic product spectrum:\n",
    "    # We downsample the power spectrum for \"N\" time, multiply all downsampled \n",
    "    # and at the end, we find the peak\n",
    "    N = 10\n",
    "    L = len(data_spectrum[::N]) \n",
    "    y = data_spectrum[:L].copy()\n",
    "    \n",
    "    for x in range(2, N+1):\n",
    "        y *=  data_spectrum[::x][:L]\n",
    "        \n",
    "    Freq = Freq[:L]\n",
    "    \n",
    "    fe = np.abs(Freq[np.argmax(y)])\n",
    "    \n",
    "    return(fe)"
   ]
  },
  {
   "cell_type": "markdown",
   "metadata": {},
   "source": [
    "## Identification of the played note \n"
   ]
  },
  {
   "cell_type": "code",
   "execution_count": 6,
   "metadata": {},
   "outputs": [
    {
     "data": {
      "image/png": "[encoded data removed]",
      "text/plain": [
       "<Figure size 432x288 with 1 Axes>"
      ]
     },
     "metadata": {},
     "output_type": "display_data"
    }
   ],
   "source": [
    "# Loading the audio file\n",
    "sound = AudioSegment.from_mp3(\"string1.mp3\")\n",
    "sound.export(\"string1.wav\", format=\"wav\")\n",
    "Fs, data = wavfile.read('string1.wav') # load the data\n",
    "\n",
    "if sound.channels == 2 :\n",
    "    data = data[:,0]\n",
    "# Spectral analysis   \n",
    "data_spectrum, Freq = power_spectrum(data,Fs)\n",
    "# fundamental frequency \n",
    "fe = fundamental_frequency_Method_1(data_spectrum, Freq)\n",
    "#fe = fundamental_frequency_Method_2(data_spectrum, Freq)"
   ]
  },
  {
   "cell_type": "code",
   "execution_count": 7,
   "metadata": {},
   "outputs": [
    {
     "name": "stdout",
     "output_type": "stream",
     "text": [
      "The played note is E1 with the accuracy in cent  0.8806136680611114 .\n"
     ]
    }
   ],
   "source": [
    "# maximum number cent of accuracy\n",
    "Ncent= 5\n",
    "\n",
    "# identification of the played note accurate to within +/-5 cents.\n",
    "if fe >= 329.63 - 0.15 * Ncent and fe <= 329.63 + 0.15 * Ncent :\n",
    "    accuracy = np.abs(fe -329.63)/0.15\n",
    "    print(\"The played note is E1 with the accuracy in cent \", accuracy, \".\")\n",
    "    \n",
    "elif fe >= 246.94 - 0.15 * Ncent and fe <= 246.94 + 0.15 * Ncent :\n",
    "    accuracy = np.abs(fe -246.94)/0.15\n",
    "    print(\"The played note is B2 with the accuracy in cent \", accuracy, \".\")\n",
    "\n",
    "elif fe >= 196.00 - 0.15 * Ncent and fe <= 196.00  + 0.15 * Ncent :\n",
    "    accuracy = np.abs(fe -196.00 )/0.15\n",
    "    print(\"The played note is G3 with the accuracy in cent \", accuracy, \".\")\n",
    "    \n",
    "elif fe >= 146.83 - 0.08 * Ncent and fe <= 146.83  + 0.08 * Ncent :\n",
    "    accuracy = np.abs(fe -146.83 )/0.08\n",
    "    print(\"The played note is D4 with the accuracy in cent \", accuracy, \".\")\n",
    "    \n",
    "elif fe >= 110.00 - 0.08 * Ncent and fe <= 110.00  + 0.08 * Ncent :\n",
    "    accuracy = np.abs(fe -110.00 )/0.08\n",
    "    print(\"The played note is A5 with the accuracy in cent \", accuracy, \".\")\n",
    "    \n",
    "elif fe >= 82.41  - 0.08 * Ncent and fe <= 82.41   + 0.08 * Ncent :\n",
    "    accuracy = np.abs(fe -82.41  )/0.08\n",
    "    print(\"The played note is E6 with the accuracy in cent \", accuracy, \".\")\n",
    "\n",
    "else :\n",
    "    print(\"The played note isn't accurate to within +/-\"+ str(Ncent)+\" cents.\")\n"
   ]
  }
 ],
 "metadata": {
  "kernelspec": {
   "display_name": "Python 3",
   "language": "python",
   "name": "python3"
  },
  "language_info": {
   "codemirror_mode": {
    "name": "ipython",
    "version": 3
   },
   "file_extension": ".py",
   "mimetype": "text/x-python",
   "name": "python",
   "nbconvert_exporter": "python",
   "pygments_lexer": "ipython3",
   "version": "3.6.3"
  }
 },
 "nbformat": 4,
 "nbformat_minor": 2
}
