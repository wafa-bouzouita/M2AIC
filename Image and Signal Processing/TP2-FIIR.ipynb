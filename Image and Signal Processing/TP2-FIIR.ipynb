{
 "cells": [
  {
   "cell_type": "markdown",
   "metadata": {},
   "source": [
    "## FIIR Delay effect\n",
    "We consider the following mean filter defined by the input-output equation \n",
    "* s[t] = e[t]+ α e[t−D]\n",
    "\n",
    "####  Impulse response of the filter\n",
    "The impulse response is obtained simply by using the Dirac as the input (e[t]=δ[t]):\n",
    "* s[t] = δ[t] + αδ[t−D]\n",
    "\n",
    "That is :\n",
    " * s[0] = 1 if D $\\neq$ 0 , \n",
    " otherwise s[0] = 1 + $\\alpha$\n",
    " * s[D] = α if D $\\neq$ 0 , otherwise s[D] = 1 + $\\alpha$\n",
    " * s[t] = 0,  if D $\\neq$ t and t $\\neq$ 0\n",
    " \n",
    "#### Frequency response\n",
    "\n",
    "##### Transfert function\n",
    "The transfert function H(z) can be obtained by applying the z-transform on the input-output equation and using the properties of the z-transform (in particular, the time shift properties)  \\begin{aligned}S(z) &=E(z)+\\alpha z^{-D}E(z) \\\\ & =(1+\\alpha z^{-D})E(z) \\end{aligned} \n",
    "Then \n",
    "\n",
    "\\begin{aligned}H(z) & = (1+\\alpha z^{-D}) \\end{aligned} \n",
    "\n",
    "#####  Complex gain\n",
    "The complex gain is obtained from the transfert function:\n",
    "\n",
    "\\begin{aligned} \\hat{h}(\\nu) & = H(e^{i 2 \\pi \\nu}) = 1 + \\alpha e^{-i 2 D \\pi \\nu}   \\end{aligned}  \n",
    "Then, the FREQUENCE RESPONSE of the filter is :\n",
    "\n",
    "\\begin{aligned} \n",
    "|\\hat{h}(\\nu)|^2 & = |1 + \\alpha e^{-i 2 D \\pi \\nu}|^2 \\\\  &=1 + \\alpha ( e^{-i 2 D \\pi \\nu} + e^{i 2 D \\pi \\nu} ) + \\alpha^2 \\\\ & = 1+2\\alpha \\cos(2 D \\pi \\nu)+\\alpha^2 \\end{aligned} \n"
   ]
  },
  {
   "cell_type": "code",
   "execution_count": 2,
   "metadata": {
    "collapsed": true
   },
   "outputs": [],
   "source": [
    "import matplotlib.pyplot as plt\n",
    "import numpy as np\n",
    "from scipy.io import wavfile \n",
    "from pydub import AudioSegment\n",
    "from scipy.signal import lfilter, freqz, filtfilt\n",
    "from scipy.fftpack import fftshift, fft\n",
    "from IPython.display import display"
   ]
  },
  {
   "cell_type": "markdown",
   "metadata": {},
   "source": [
    "### Preparation"
   ]
  },
  {
   "cell_type": "code",
   "execution_count": 3,
   "metadata": {
    "collapsed": true
   },
   "outputs": [],
   "source": [
    "# Loading the audio file\n",
    "sound = AudioSegment.from_mp3(\"string1.mp3\")\n",
    "sound.export(\"string1.wav\", format=\"wav\")\n",
    "Fs, x = wavfile.read('string1.wav') # load the data\n",
    "\n",
    "if sound.channels == 2 :\n",
    "    x = x[:,0]\n",
    "\n",
    "T = len(x)"
   ]
  },
  {
   "cell_type": "markdown",
   "metadata": {
    "collapsed": true
   },
   "source": [
    "### Filtering implementation"
   ]
  },
  {
   "cell_type": "code",
   "execution_count": 4,
   "metadata": {},
   "outputs": [
    {
     "name": "stdout",
     "output_type": "stream",
     "text": [
      "(20001,)\n"
     ]
    },
    {
     "data": {
      "text/plain": [
       "0.0"
      ]
     },
     "metadata": {},
     "output_type": "display_data"
    }
   ],
   "source": [
    "D = 20000\n",
    "alpha = 0.25\n",
    "eps = 10**(-8)\n",
    "# first method\n",
    "s1 = np.zeros(T)\n",
    "s1[0:D] = x[0:D]\n",
    "for t in range(D,T):\n",
    "    s1[t] = x[t] + alpha*x[t-D] \n",
    "\n",
    "# second method\n",
    "h = np.zeros(D+1)\n",
    "print(h.shape)\n",
    "h[0] = 1\n",
    "h[D] = alpha\n",
    "s2 = lfilter(h,1,x)\n",
    "#s2[0:D] = x[0:D]\n",
    "\n",
    "# comparization\n",
    "display(np.linalg.norm(s1-s2))"
   ]
  },
  {
   "cell_type": "code",
   "execution_count": 5,
   "metadata": {},
   "outputs": [
    {
     "data": {
      "image/png": "[encoded data removed]",
      "text/plain": [
       "<Figure size 432x288 with 1 Axes>"
      ]
     },
     "metadata": {},
     "output_type": "display_data"
    }
   ],
   "source": [
    "[W,H] = freqz(h,1,round(T/2),Fs)\n",
    "plt.figure(1)\n",
    "plt.plot(W,20*np.log(abs(H)+eps))\n",
    "plt.title('Frequency response of the filter (in db)')\n",
    "plt.show()"
   ]
  },
  {
   "cell_type": "markdown",
   "metadata": {},
   "source": [
    "The filter is a low pass filter: an attenuation of frequencies about 25 db is attained around 15000 Hz.\n",
    "\n",
    "We compare the spectrum of the input signal and the ouput signal. The signals are real, so we only display the positive frequencies"
   ]
  },
  {
   "cell_type": "code",
   "execution_count": 6,
   "metadata": {
    "collapsed": true
   },
   "outputs": [],
   "source": [
    "x_fft = fft(x)\n",
    "x_spectrum_db = 20*np.log(abs(x_fft)+eps)\n",
    "\n",
    "s_fft = fft(s1)\n",
    "s_spectrum_db = 20*np.log(abs(s_fft)+eps)"
   ]
  },
  {
   "cell_type": "markdown",
   "metadata": {},
   "source": [
    "The frequency axis is given in W. We could construct the axis as freq_axis = linspace(0,fs/2,round(T/2))"
   ]
  },
  {
   "cell_type": "code",
   "execution_count": 23,
   "metadata": {},
   "outputs": [
    {
     "data": {
      "image/png": "[encoded data removed]",
      "text/plain": [
       "<Figure size 432x288 with 1 Axes>"
      ]
     },
     "metadata": {},
     "output_type": "display_data"
    }
   ],
   "source": [
    "freq_axis = W\n",
    "plt.figure(2)\n",
    "plt.plot(freq_axis,x_spectrum_db[:round(T/2)],'r',freq_axis,s_spectrum_db[:round(T/2)],'b')\n",
    "plt.title('Spectrum of the input and output signals (in db)')\n",
    "plt.show()"
   ]
  },
  {
   "cell_type": "code",
   "execution_count": 24,
   "metadata": {},
   "outputs": [
    {
     "data": {
      "image/png": "[encoded data removed]",
      "text/plain": [
       "<Figure size 432x288 with 1 Axes>"
      ]
     },
     "metadata": {},
     "output_type": "display_data"
    }
   ],
   "source": [
    "time_axis = np.linspace(0,T/Fs,T)\n",
    "plt.figure(3)\n",
    "plt.plot(time_axis,x,'r',time_axis,s2,'b')\n",
    "plt.title('Time representation of the input and output signals (in s)')\n",
    "plt.show()"
   ]
  },
  {
   "cell_type": "code",
   "execution_count": 25,
   "metadata": {
    "collapsed": true
   },
   "outputs": [],
   "source": [
    "import scipy.io.wavfile\n",
    "\n",
    "scipy.io.wavfile.write('string1_FIIR_delay.wav',Fs,s2)"
   ]
  },
  {
   "cell_type": "code",
   "execution_count": null,
   "metadata": {
    "collapsed": true
   },
   "outputs": [],
   "source": []
  },
  {
   "cell_type": "code",
   "execution_count": null,
   "metadata": {
    "collapsed": true
   },
   "outputs": [],
   "source": []
  },
  {
   "cell_type": "code",
   "execution_count": null,
   "metadata": {
    "collapsed": true
   },
   "outputs": [],
   "source": []
  }
 ],
 "metadata": {
  "kernelspec": {
   "display_name": "Python 3",
   "language": "python",
   "name": "python3"
  },
  "language_info": {
   "codemirror_mode": {
    "name": "ipython",
    "version": 3
   },
   "file_extension": ".py",
   "mimetype": "text/x-python",
   "name": "python",
   "nbconvert_exporter": "python",
   "pygments_lexer": "ipython3",
   "version": "3.6.3"
  }
 },
 "nbformat": 4,
 "nbformat_minor": 2
}
