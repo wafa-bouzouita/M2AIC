{
 "cells": [
  {
   "cell_type": "code",
   "execution_count": 1,
   "metadata": {},
   "outputs": [],
   "source": [
    "# from Kaggle challenge : https://www.kaggle.com/c/titanic"
   ]
  },
  {
   "cell_type": "markdown",
   "metadata": {},
   "source": [
    "# Decision Tree Tutorial : Entropy"
   ]
  },
  {
   "cell_type": "code",
   "execution_count": 2,
   "metadata": {},
   "outputs": [],
   "source": [
    "from __future__ import absolute_import\n",
    "from __future__ import division\n",
    "from __future__ import print_function\n",
    "\n",
    "import numpy as np \n",
    "import matplotlib.pyplot as plt \n",
    "# %matplotlib inline  \n",
    "import pandas as pd #for manipulating data "
   ]
  },
  {
   "cell_type": "code",
   "execution_count": 3,
   "metadata": {},
   "outputs": [],
   "source": [
    "def get_titanic_data():\n",
    "     \n",
    "    np.random.seed(42)\n",
    "    # get titanic & test csv files as a DataFrame\n",
    "    titanic_df = pd.read_csv(\"tp4-train_titanic.csv\", dtype={\"Age\": np.float64}, )\n",
    "\n",
    "    # drop unnecessary columns, these columns won't be useful in analysis and prediction\n",
    "    titanic_df = titanic_df.drop(['PassengerId', 'Name', 'Ticket', 'SibSp', 'Parch' , 'Fare', 'Cabin'], axis=1)\n",
    "\n",
    "\n",
    "    # only in titanic_df, fill the two missing values with the most occurred value, which is \"S\".\n",
    "    titanic_df[\"Embarked\"] = titanic_df[\"Embarked\"].fillna(\"S\")\n",
    "\n",
    "    # Age: values are missing, we replace them\n",
    "    # get average, std, and number of NaN values in titanic_df\n",
    "    average_age_titanic   = titanic_df[\"Age\"].mean()\n",
    "    std_age_titanic       = titanic_df[\"Age\"].std()\n",
    "    count_nan_age_titanic = titanic_df[\"Age\"].isnull().sum()\n",
    "    # generate random numbers between (mean - std) & (mean + std)\n",
    "    rand_1 = np.random.randint(average_age_titanic - std_age_titanic, average_age_titanic + std_age_titanic, size = count_nan_age_titanic)\n",
    "    titanic_df['Age'].dropna().astype(int)\n",
    "    # fill NaN values in Age column with random values generated   \n",
    "    titanic_df[\"Age\"] = titanic_df[\"Age\"].fillna(30)\n",
    "    # convert from float to int\n",
    "    titanic_df['Age'] = titanic_df['Age'].astype(int)\n",
    "    \n",
    "    # y contains the information we try to predit: did the passenger survive ?\n",
    "    y = titanic_df['Survived']\n",
    "    \n",
    "    # X contains useful data for classification\n",
    "    X = titanic_df.drop( [\"Survived\"], axis = 1)\n",
    "    print(\"X: data:\")\n",
    "    print(X.head())\n",
    "   \n",
    "    return X,y"
   ]
  },
  {
   "cell_type": "code",
   "execution_count": 4,
   "metadata": {},
   "outputs": [
    {
     "name": "stdout",
     "output_type": "stream",
     "text": [
      "X: data:\n",
      "   Pclass     Sex  Age Embarked\n",
      "0       3    male   22        S\n",
      "1       1  female   38        C\n",
      "2       3  female   26        S\n",
      "3       1  female   35        S\n",
      "4       3    male   35        S\n",
      "\n",
      "\n",
      "[22 38 26 35 35]\n",
      "['male' 'female' 'female' 'female' 'male']\n",
      "[0 1 1 1 0]\n",
      "[False  True False False False]\n",
      "[False False  True False False]\n"
     ]
    }
   ],
   "source": [
    "X, y = get_titanic_data()\n",
    "\"\"\"\n",
    "We access data using the name of the features as attributes of X:\n",
    "X.Pclass, X.Sex, X.age, X.Embarked , or equivalently:  X[\"Pclass\"], X[\"Sex\"], etc...\n",
    "We can also turn them into lists or vectors (arrays) :\n",
    "\"\"\"\n",
    "print(\"\\n\")\n",
    "print(np.array(X[\"Age\"])[:5])\n",
    "print(np.array(X[\"Sex\"])[:5])\n",
    "print(np.array(y)[:5])\n",
    "\"\"\"\n",
    "This makes data extraction easy:\n",
    "\"\"\"\n",
    "print(np.array((X['Age'] == 38)&(X['Sex'] == 'female'))[:5]) \n",
    "print(np.array((X['Age'] < 30)&(y == 1))[:5]) "
   ]
  },
  {
   "cell_type": "markdown",
   "metadata": {},
   "source": [
    "## Exercices : \n",
    "\n",
    "1. Exploration :\n",
    "    - Print the rate of survival, as a function of gender (i.e. prob(Survive | gender = female) et proba(Survive | gender = male)). \n",
    "    - Likewise for the class (1st class being morre expensive) and Boarding harbor (1 = Cherbourg; 2 = Queenstown; 3 = Southampton).\n",
    "    - Which feature seems most informative ?\n",
    "    - How could we apply this idea to age ? \n",
    "    \n",
    "    \n",
    "2. Analysis :\n",
    "    - Code the entropy function, for a Bernoulli variable, as a function of its parameter $p$. Plot it.        \n",
    "    - Compute the information gain $I$ provided by the gender variable.\n",
    "    - Likewise for class and boarding harbor.\n",
    "    - Which factor effectively yields most information ?\n",
    "    - Same question with age ranges ?\n",
    "    - How to explain this advantage ? What is the inconvenient ?\n",
    "\n",
    "\n",
    "3. Model and prediction:\n",
    "    - For *tree.DecisionTreeClassifier()*, we need data to be numerical. Digitize the text data to match this expected input form. You should drop one feature (the least informative one).\n",
    "    - Using *tree.DecisionTreeClassifier()* (from *sklearn*), train a decision tree.\n",
    "    - Does the attribute *feature_importances* of *tree.DecisionTreeClassifier()* produce the same results as your hand-written analysis ?"
   ]
  },
  {
   "cell_type": "markdown",
   "metadata": {},
   "source": [
    "### Survival probability as a function of gender, boarding harbor, or ticket class :"
   ]
  },
  {
   "cell_type": "code",
   "execution_count": 5,
   "metadata": {},
   "outputs": [
    {
     "data": {
      "text/plain": [
       "0      22\n",
       "1      38\n",
       "2      26\n",
       "3      35\n",
       "4      35\n",
       "5      30\n",
       "6      54\n",
       "7       2\n",
       "8      27\n",
       "9      14\n",
       "10      4\n",
       "11     58\n",
       "12     20\n",
       "13     39\n",
       "14     14\n",
       "15     55\n",
       "16      2\n",
       "17     30\n",
       "18     31\n",
       "19     30\n",
       "20     35\n",
       "21     34\n",
       "22     15\n",
       "23     28\n",
       "24      8\n",
       "25     38\n",
       "26     30\n",
       "27     19\n",
       "28     30\n",
       "29     30\n",
       "       ..\n",
       "861    21\n",
       "862    48\n",
       "863    30\n",
       "864    24\n",
       "865    42\n",
       "866    27\n",
       "867    31\n",
       "868    30\n",
       "869     4\n",
       "870    26\n",
       "871    47\n",
       "872    33\n",
       "873    47\n",
       "874    28\n",
       "875    15\n",
       "876    20\n",
       "877    19\n",
       "878    30\n",
       "879    56\n",
       "880    25\n",
       "881    33\n",
       "882    22\n",
       "883    28\n",
       "884    25\n",
       "885    39\n",
       "886    27\n",
       "887    19\n",
       "888    30\n",
       "889    26\n",
       "890    32\n",
       "Name: Age, Length: 891, dtype: int64"
      ]
     },
     "execution_count": 5,
     "metadata": {},
     "output_type": "execute_result"
    }
   ],
   "source": [
    "X[\"Age\"]"
   ]
  },
  {
   "cell_type": "code",
   "execution_count": 6,
   "metadata": {},
   "outputs": [
    {
     "name": "stdout",
     "output_type": "stream",
     "text": [
      "\n",
      "Conditional probabilities for attribute Pclass\n",
      "P(Survive| Pclass = 1) = 0.63\n",
      "P(Survive| Pclass = 2) = 0.47\n",
      "P(Survive| Pclass = 3) = 0.24\n",
      "\n",
      "Conditional probabilities for attribute Embarked\n",
      "P(Survive| Embarked = Q) = 0.39\n",
      "P(Survive| Embarked = S) = 0.34\n",
      "P(Survive| Embarked = C) = 0.55\n",
      "\n",
      "Conditional probabilities for attribute Sex\n",
      "P(Survive| Sex = male) = 0.19\n",
      "P(Survive| Sex = female) = 0.74\n",
      "\n",
      "Let's now denote 'Y=Survive' the random variable Y: {Survived, Died}.\n",
      "\n",
      "Conditional probabilities for attribute Age\n",
      "P(Y| 0 < Age <= 10 ) = 0.54\n",
      "P(Y| 10 < Age <= 20 ) = 0.35\n",
      "P(Y| 20 < Age <= 30 ) = 0.18\n",
      "P(Y| 30 < Age <= 40 ) = 0.41\n",
      "P(Y| 40 < Age <= 50 ) = 0.33\n",
      "P(Y| 50 < Age <= 60 ) = 0.36\n",
      "P(Y| 60 < Age <= 70 ) = 0.22\n",
      "P(Y| 70 < Age <= 80 ) = 0.00\n"
     ]
    }
   ],
   "source": [
    "from __future__ import division\n",
    "\n",
    "Attributes = ['Pclass', 'Embarked', 'Sex']\n",
    "for Att in Attributes:\n",
    "    print(\"\\nConditional probabilities for attribute %s\" % Att)\n",
    "    for att in set(X[Att]):\n",
    "        nb_att = np.sum(X[Att] == att)\n",
    "        nb_att_survived = np.sum((X[Att] == att) & (y == 1))\n",
    "        condi_prob_att_survived = nb_att_survived / nb_att\n",
    "        print(\"P(Survive| %s = %s) = %.2f\" % (Att, att, condi_prob_att_survived))\n",
    "        \n",
    "print(\"\\nLet's now denote 'Y=Survive' the random variable Y: {Survived, Died}.\")\n",
    "\n",
    "Att = 'Age'\n",
    "print(\"\\nConditional probabilities for attribute %s\" % Att)\n",
    "for i in range(8):\n",
    "    nb_att = np.sum((X[Att] > i*10) & (X[Att] <= (i+1)*10))\n",
    "    nb_att_survived = np.sum((X[Att] > i*10) & (X[Att] < (i+1)*10) & (y == 1))\n",
    "    condi_prob_att_survived = nb_att_survived / nb_att\n",
    "    print(\"P(Y| %i < %s <= %i ) = %.2f\" % (i*10, Att, (i+1)*10, condi_prob_att_survived))"
   ]
  },
  {
   "cell_type": "code",
   "execution_count": null,
   "metadata": {},
   "outputs": [],
   "source": []
  },
  {
   "cell_type": "markdown",
   "metadata": {
    "collapsed": true
   },
   "source": [
    "### Entropy: "
   ]
  },
  {
   "cell_type": "code",
   "execution_count": 7,
   "metadata": {},
   "outputs": [
    {
     "data": {
      "text/plain": [
       "Text(0,0.5,'uncertainty')"
      ]
     },
     "execution_count": 7,
     "metadata": {},
     "output_type": "execute_result"
    },
    {
     "data": {
      "image/png": "[encoded data removed]",
      "text/plain": [
       "<Figure size 432x288 with 1 Axes>"
      ]
     },
     "metadata": {},
     "output_type": "display_data"
    }
   ],
   "source": [
    "\"\"\"\n",
    "with p = Prob(survived | gender = female) \n",
    "I(gender) = -p * log(p) - (1-p) * log(1- p)\n",
    "Recall: a lower-I variable is more informative than a large one.\n",
    "\"\"\"\n",
    "\n",
    "def entropy(p):\n",
    "    if p==0 or p==1:\n",
    "        return 0\n",
    "    else:\n",
    "        return - p*np.log(p) - (1-p)*np.log(1-p)\n",
    "    \n",
    "list_p = np.arange(0.00,1.01,0.01)\n",
    "plt.plot(list_p, [entropy(p) for p in list_p])\n",
    "\n",
    "plt.title('Entropy function')\n",
    "plt.xlabel('p')\n",
    "plt.ylabel('uncertainty')"
   ]
  },
  {
   "cell_type": "code",
   "execution_count": 8,
   "metadata": {},
   "outputs": [
    {
     "name": "stdout",
     "output_type": "stream",
     "text": [
      "\n",
      "\n",
      "     Entropy of  'Y|(Pclass = 1)'  = 0.66\n",
      "     Entropy of  'Y|(Pclass = 2)'  = 0.69\n",
      "     Entropy of  'Y|(Pclass = 3)'  = 0.55\n",
      "Entropy of  'Y|(Pclass)'  = 0.61\n",
      "Information gain from  'Y|(Pclass)'  = 0.06\n",
      "\n",
      "\n",
      "     Entropy of  'Y|(Embarked = Q)'  = 0.67\n",
      "     Entropy of  'Y|(Embarked = S)'  = 0.64\n",
      "     Entropy of  'Y|(Embarked = C)'  = 0.69\n",
      "Entropy of  'Y|(Embarked)'  = 0.65\n",
      "Information gain from  'Y|(Embarked)'  = 0.01\n",
      "\n",
      "\n",
      "     Entropy of  'Y|(Sex = male)'  = 0.48\n",
      "     Entropy of  'Y|(Sex = female)'  = 0.57\n",
      "Entropy of  'Y|(Sex)'  = 0.52\n",
      "Information gain from  'Y|(Sex)'  = 0.15\n",
      "\n",
      "\n",
      "     Entropy of  'Y|(0 < Age < 10)'  = 0.69\n",
      "     Entropy of  'Y|(10 < Age < 20)'  = 0.65\n",
      "     Entropy of  'Y|(20 < Age < 30)'  = 0.47\n",
      "     Entropy of  'Y|(30 < Age < 40)'  = 0.68\n",
      "     Entropy of  'Y|(40 < Age < 50)'  = 0.64\n",
      "     Entropy of  'Y|(50 < Age < 60)'  = 0.65\n",
      "     Entropy of  'Y|(60 < Age < 70)'  = 0.53\n",
      "     Entropy of  'Y|(70 < Age < 80)'  = 0.00\n",
      "Entropy of  'Y|(Age)'  = 0.56\n",
      "Information gain from  'Y|(Age)'  = 0.10\n",
      "\n",
      "Mechanically, the information gain will be higher if the feature can take a large number of different values. However these gains will be less likely to generalize well: we would gain more information if we chosemore inclusive age classes (larger ranges), but that would not help us during a test.\n",
      "\n",
      "From this point on, we decide to ignore the boarding harbor (Embark attribute) from the model.\n"
     ]
    }
   ],
   "source": [
    "p_survie = np.sum(y==1) / len(X)\n",
    "\n",
    "Attributes = ['Pclass', 'Embarked', 'Sex']\n",
    "for Att in Attributes:\n",
    "    print(\"\\n\")\n",
    "    probs = []\n",
    "    TotalEntropy = 0.0\n",
    "    InformationGainOfAttribute = entropy(p_survie) \n",
    "    for att in set(X[Att]):\n",
    "        nb_att = np.sum(X[Att] == att)\n",
    "        nb_att_survived = np.sum((X[Att] == att) & (y == 1))\n",
    "        condi_prob_att_survived = nb_att_survived / nb_att\n",
    "        prob_classe = nb_att / len(X[Att])\n",
    "        print(\"     Entropy of  'Y|(%s = %s)'  = %.2f\" % (Att, att, entropy(condi_prob_att_survived)))\n",
    "        TotalEntropy += prob_classe*entropy(condi_prob_att_survived)\n",
    "        InformationGainOfAttribute += -prob_classe*entropy(condi_prob_att_survived)\n",
    "    # print(\"\")\n",
    "    print(\"Entropy of  'Y|(%s)'  = %.2f\" % (Att, TotalEntropy))\n",
    "    print(\"Information gain from  'Y|(%s)'  = %.2f\" % (Att, InformationGainOfAttribute))\n",
    "    \n",
    "Attribute = 'Age'\n",
    "print(\"\\n\")\n",
    "probs = []\n",
    "TotalEntropy = 0.0\n",
    "InformationGainOfAttribute = entropy(p_survie) \n",
    "# binning_width=20\n",
    "# binning_width=5\n",
    "binning_width=10\n",
    "for i in range(X[Attribute].max()//binning_width):\n",
    "    nb_att = np.sum((X[Attribute] > i*binning_width) & (X[Attribute] <= (i+1)*binning_width))\n",
    "    nb_att_survived = np.sum((X[Attribute] > i*binning_width) & (X[Attribute] < (i+1)*binning_width) & (y == 1))\n",
    "    condi_prob_att_survived = nb_att_survived / nb_att\n",
    "    prob_classe = nb_att / len(X[Attribute])\n",
    "    probs.append((condi_prob_att_survived, prob_classe))\n",
    "    print(\"     Entropy of  'Y|(%i < %s < %i)'  = %.2f\" % (i*binning_width, Attribute,(i+1)*binning_width, \\\n",
    "                                                       entropy(condi_prob_att_survived) )  )\n",
    "    TotalEntropy += prob_classe*entropy(condi_prob_att_survived)\n",
    "    InformationGainOfAttribute += -prob_classe*entropy(condi_prob_att_survived)\n",
    "print(\"Entropy of  'Y|(%s)'  = %.2f\" % (Attribute, TotalEntropy))\n",
    "print(\"Information gain from  'Y|(%s)'  = %.2f\" % (Attribute, InformationGainOfAttribute))\n",
    "\n",
    "print(\"\\nMechanically, the information gain will be higher if the feature can take a large number of different values. \\\n",
    "However these gains will be less likely to generalize well: we would gain more information if we chose\\\n",
    "more inclusive age classes (larger ranges), but that would not help us during a test.\")\n",
    "\n",
    "print(\"\\nFrom this point on, we decide to ignore the boarding harbor (Embark attribute) from the model.\")"
   ]
  },
  {
   "cell_type": "code",
   "execution_count": 9,
   "metadata": {},
   "outputs": [
    {
     "name": "stdout",
     "output_type": "stream",
     "text": [
      "(891,)\n",
      "(891,)\n",
      "(891,)\n",
      "(891, 3)\n"
     ]
    }
   ],
   "source": [
    "# we convert the data set into numerical data (for the categorical attributes)\n",
    "\n",
    "print(np.array(X[\"Age\"]).shape)\n",
    "print(np.array([i=='male' for i in list(X[\"Sex\"])]).shape) ## we turn the Sex attribute into numerical\n",
    "print(np.array(X[\"Pclass\"]).shape)  ## altready numerical\n",
    "X_array = np.stack(  [ np.array(X[\"Age\"]),  \\\n",
    "                       np.array([i=='male' for i in list(X[\"Sex\"])]),\\\n",
    "                       np.array(X[\"Pclass\"])] \\\n",
    "                       , 1 )\n",
    "print(X_array.shape)"
   ]
  },
  {
   "cell_type": "code",
   "execution_count": 10,
   "metadata": {},
   "outputs": [
    {
     "name": "stdout",
     "output_type": "stream",
     "text": [
      "[0.36192577 0.45716048 0.18091376]\n",
      "0.9999999999999999\n"
     ]
    }
   ],
   "source": [
    "from sklearn import tree\n",
    "DT = tree.DecisionTreeClassifier()\n",
    "## we train the classifier, for now, using all the labels y (known)\n",
    "DT.fit(X_array,y)\n",
    "print(DT.feature_importances_)\n",
    "print(np.sum(DT.feature_importances_))"
   ]
  },
  {
   "cell_type": "code",
   "execution_count": 11,
   "metadata": {},
   "outputs": [
    {
     "name": "stdout",
     "output_type": "stream",
     "text": [
      "0.32258064516129037 0.48387096774193544 0.1935483870967742\n",
      "to be compared with the scikit-learn output:\n",
      "[0.36192577 0.45716048 0.18091376]\n"
     ]
    }
   ],
   "source": [
    "## to compare  DT.feature_importances_  with the IG computed by hand, we normalize the latter\n",
    "## such that the sum of IG(Att) is 1\n",
    "IG_by_hand = [0.10, 0.15, 0.06]   ## (same order as DT.feature_importances_ : Age, Sex, Pclass)\n",
    "norm = np.sum(IG_by_hand)\n",
    "print(IG_by_hand[0]/norm, IG_by_hand[1]/norm, IG_by_hand[2]/norm)\n",
    "print(\"to be compared with the scikit-learn output:\")\n",
    "print(DT.feature_importances_)"
   ]
  },
  {
   "cell_type": "markdown",
   "metadata": {},
   "source": [
    "Explanation: the age class is not binned rigidly in the method *tree.DecisionTreeClassifier*\n",
    "\n",
    "Hence the difference.\n",
    "\n",
    "However we do recognize similar values for each of the atrtributes"
   ]
  },
  {
   "cell_type": "markdown",
   "metadata": {},
   "source": [
    "# WE NOW PERFORM A CROSS-VALIDATION:"
   ]
  },
  {
   "cell_type": "code",
   "execution_count": 12,
   "metadata": {},
   "outputs": [
    {
     "data": {
      "text/plain": [
       "array([0.76536313, 0.79888268, 0.80337079, 0.82022472, 0.8079096 ])"
      ]
     },
     "execution_count": 12,
     "metadata": {},
     "output_type": "execute_result"
    }
   ],
   "source": [
    "from sklearn.model_selection import cross_val_score\n",
    "\n",
    "cross_val_score(DT, X_array, y, cv=5)"
   ]
  },
  {
   "cell_type": "code",
   "execution_count": 13,
   "metadata": {},
   "outputs": [
    {
     "name": "stdout",
     "output_type": "stream",
     "text": [
      "0.8192960503915561 +/- 0.03198694585521862\n"
     ]
    }
   ],
   "source": [
    "Nfold=10\n",
    "CV_output = cross_val_score(DT, X_array, y, cv=Nfold)\n",
    "averageScore = CV_output.mean()\n",
    "stdDev_of_score = CV_output.std()\n",
    "print(averageScore, \"+/-\",  stdDev_of_score)"
   ]
  },
  {
   "cell_type": "code",
   "execution_count": 14,
   "metadata": {},
   "outputs": [
    {
     "name": "stdout",
     "output_type": "stream",
     "text": [
      "0.7991501840387235 +/- 0.018332013750024728\n"
     ]
    }
   ],
   "source": [
    "Nfold=5\n",
    "CV_output = cross_val_score(DT, X_array, y, cv=Nfold)\n",
    "averageScore = CV_output.mean()\n",
    "stdDev_of_score = CV_output.std()\n",
    "print(averageScore, \"+/-\",  stdDev_of_score)"
   ]
  },
  {
   "cell_type": "code",
   "execution_count": null,
   "metadata": {},
   "outputs": [],
   "source": []
  }
 ],
 "metadata": {
  "anaconda-cloud": {},
  "kernelspec": {
   "display_name": "Python 3",
   "language": "python",
   "name": "python3"
  },
  "language_info": {
   "codemirror_mode": {
    "name": "ipython",
    "version": 3
   },
   "file_extension": ".py",
   "mimetype": "text/x-python",
   "name": "python",
   "nbconvert_exporter": "python",
   "pygments_lexer": "ipython3",
   "version": "3.6.5"
  }
 },
 "nbformat": 4,
 "nbformat_minor": 1
}
