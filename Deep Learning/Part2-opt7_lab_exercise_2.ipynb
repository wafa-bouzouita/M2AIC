{
 "cells": [
  {
   "cell_type": "markdown",
   "metadata": {},
   "source": [
    "# Part 2 : CNN with pre_trained data : Glove"
   ]
  },
  {
   "cell_type": "markdown",
   "metadata": {},
   "source": [
    "### Dhiaeddine YOUSFI & Wafa BOUZOUITA"
   ]
  },
  {
   "cell_type": "code",
   "execution_count": 1,
   "metadata": {},
   "outputs": [],
   "source": [
    "import re\n",
    "import numpy as np\n",
    "import torch\n",
    "import torch.autograd as ag\n",
    "import torch.nn.functional as F\n",
    "import torch.nn as nn\n",
    "import torch.optim.lr_scheduler as lr_sch\n",
    "import matplotlib.pyplot as plt\n",
    "\n",
    "import random"
   ]
  },
  {
   "cell_type": "markdown",
   "metadata": {},
   "source": [
    "## Data"
   ]
  },
  {
   "cell_type": "code",
   "execution_count": 2,
   "metadata": {},
   "outputs": [],
   "source": [
    "# Tokenize a sentence\n",
    "def clean_str(string, tolower=True):\n",
    "    \"\"\"\n",
    "    Tokenization/string cleaning.\n",
    "    Original taken from https://github.com/yoonkim/CNN_sentence/blob/master/process_data.py\n",
    "    \"\"\"\n",
    "    string = re.sub(r\"[^A-Za-z0-9(),!?\\'\\`]\", \" \", string)\n",
    "    string = re.sub(r\"\\'s\", \" \\'s\", string)\n",
    "    string = re.sub(r\"\\'ve\", \" \\'ve\", string)\n",
    "    string = re.sub(r\"n\\'t\", \" n\\'t\", string)\n",
    "    string = re.sub(r\"\\'re\", \" \\'re\", string)\n",
    "    string = re.sub(r\"\\'d\", \" \\'d\", string)\n",
    "    string = re.sub(r\"\\'ll\", \" \\'ll\", string)\n",
    "    string = re.sub(r\",\", \" , \", string)\n",
    "    string = re.sub(r\"!\", \" ! \", string)\n",
    "    string = re.sub(r\"\\(\", \" \\( \", string)\n",
    "    string = re.sub(r\"\\)\", \" \\) \", string)\n",
    "    string = re.sub(r\"\\?\", \" \\? \", string)\n",
    "    string = re.sub(r\"\\s{2,}\", \" \", string)\n",
    "    if tolower:\n",
    "        string = string.lower()\n",
    "    return string.strip()\n",
    "\n",
    "\n",
    "# reads the content of the file passed as an argument.\n",
    "# if limit > 0, this function will return only the first \"limit\" sentences in the file.\n",
    "def loadTexts(filename, limit=-1):\n",
    "    f = open(filename)\n",
    "    dataset=[]\n",
    "    line =  f.readline()\n",
    "    cpt=1\n",
    "    skip=0\n",
    "    while line :\n",
    "        cleanline = clean_str(f.readline()).split()\n",
    "        if cleanline: \n",
    "            dataset.append(cleanline)\n",
    "        else: \n",
    "            line = f.readline()\n",
    "            skip+=1\n",
    "            continue\n",
    "        if limit > 0 and cpt >= limit: \n",
    "            break\n",
    "        line = f.readline()\n",
    "        cpt+=1        \n",
    "        \n",
    "    f.close()\n",
    "    print(\"Load \", cpt, \" lines from \", filename , \" / \", skip ,\" lines discarded\")\n",
    "    return dataset"
   ]
  },
  {
   "cell_type": "code",
   "execution_count": 3,
   "metadata": {},
   "outputs": [
    {
     "name": "stdout",
     "output_type": "stream",
     "text": [
      "Load  5000  lines from  imdb.pos  /  1  lines discarded\n",
      "Load  5000  lines from  imdb.neg  /  1  lines discarded\n"
     ]
    }
   ],
   "source": [
    "LIM=5000\n",
    "txtfile = 'imdb.pos'  # path of the file containing positive reviews\n",
    "postxt = loadTexts(txtfile,limit=LIM)\n",
    "\n",
    "txtfile = 'imdb.neg' # path of the file containing negative reviews\n",
    "negtxt = loadTexts(txtfile,limit=LIM)"
   ]
  },
  {
   "cell_type": "code",
   "execution_count": 4,
   "metadata": {},
   "outputs": [],
   "source": [
    "txt = postxt + negtxt\n",
    "label = list(np.ones(LIM, int))+list(np.zeros(LIM, int))"
   ]
  },
  {
   "cell_type": "code",
   "execution_count": 5,
   "metadata": {},
   "outputs": [],
   "source": [
    "from sklearn.model_selection import train_test_split\n",
    "\n",
    "txt_train, txt_dev, label_train, label_dev = train_test_split(txt, label, test_size=0.1, random_state=26 ,stratify=label)\n",
    "\n",
    "txt_train, txt_test, label_train, label_test = train_test_split(txt_train , label_train , test_size=0.1, random_state = 26 , stratify=label_train)"
   ]
  },
  {
   "cell_type": "markdown",
   "metadata": {},
   "source": [
    "# Converting data to Pytorch tensors"
   ]
  },
  {
   "cell_type": "code",
   "execution_count": 6,
   "metadata": {},
   "outputs": [],
   "source": [
    "class Dict:\n",
    "    def __init__(self, words, unk=None):\n",
    "        self._unk = unk\n",
    "        self._word_to_id = dict()\n",
    "        self._id_to_word = list()\n",
    "\n",
    "        if unk in words:\n",
    "            raise RuntimeError(\"UNK word exists in vocabulary\")\n",
    "\n",
    "        if unk is not None:\n",
    "            self.unk_index = self._add_word(unk)\n",
    "\n",
    "        for word in words:\n",
    "            self._add_word(word)\n",
    "\n",
    "    # for internal use only!\n",
    "    def _add_word(self, word):\n",
    "        if word not in self._word_to_id:\n",
    "            id = len(self._id_to_word)\n",
    "            self._word_to_id[word] = id\n",
    "            self._id_to_word.append(word)\n",
    "            return id\n",
    "        else:\n",
    "            return self._word_to_id[word]\n",
    "\n",
    "    def str_to_id(self, word):\n",
    "        if self._unk is not None:\n",
    "            return self._word_to_id.get(word, self.unk_index)\n",
    "        else:\n",
    "            return self._word_to_id[word]\n",
    "\n",
    "    def id_to_str(self, id):\n",
    "        return self._id_to_word[id]\n",
    "\n",
    "    def __len__(self):\n",
    "        return len(self._word_to_id)\n",
    "\n",
    "    def has_unk(self):\n",
    "        return self._unk is not None\n",
    "    \n",
    "    def unk(self):\n",
    "        return self.unk_index"
   ]
  },
  {
   "cell_type": "code",
   "execution_count": 7,
   "metadata": {},
   "outputs": [],
   "source": [
    "#Creating a dictionary where each word is associated to an index\n",
    "word_index = {}\n",
    "for sentence in txt_train:\n",
    "    for word in sentence:\n",
    "        if word not in word_index:\n",
    "            word_index[word] = len(word_index) + 1\n",
    "            "
   ]
  },
  {
   "cell_type": "code",
   "execution_count": 8,
   "metadata": {},
   "outputs": [],
   "source": [
    "Dict_index = Dict(word_index, unk=True)"
   ]
  },
  {
   "cell_type": "markdown",
   "metadata": {},
   "source": [
    "## Training loop"
   ]
  },
  {
   "cell_type": "code",
   "execution_count": 9,
   "metadata": {},
   "outputs": [],
   "source": [
    "def train(model , epochs, X_train ,y_train , X_dev , y_dev , optimizer, lr):   \n",
    "        \n",
    "    #variables to see the progression\n",
    "    mean_loss_train = []\n",
    "    mean_loss_dev = []\n",
    "    accuracy_train = []\n",
    "    accuracy_dev = []\n",
    "    \n",
    "    \n",
    "    #passe le modele en mode training\n",
    "    model.train()\n",
    "    \n",
    "    for i in range(epochs):\n",
    "        \n",
    "        #Adaptive learning rate\n",
    "        if((i+1)%2 == 0):\n",
    "            for f in optimizer.param_groups:\n",
    "                f['lr'] = f['lr']*0.75\n",
    "                \n",
    "        #defining parameters to print the evolution of the NN\n",
    "        accuracy = 0\n",
    "        mean_loss = 0\n",
    "        \n",
    "        #shuffle to reduce overfitting\n",
    "        d = list(zip(X_train, y_train))\n",
    "        np.random.shuffle(d)\n",
    "        X_train, y_train = zip(*d)\n",
    "        \n",
    "        for sentence,label in zip(X_train , y_train):\n",
    "            \n",
    "            # initialize the parameters gradient to zero\n",
    "            optimizer.zero_grad()\n",
    "            \n",
    "            #Creating the tensors for inputs\n",
    "            data = torch.LongTensor([Dict_index.str_to_id(word) for word in sentence])\n",
    "            label = torch.Tensor([label])\n",
    "            #prediction and loss\n",
    "            prediction = model(data)\n",
    "            loss_out = loss(prediction , label)\n",
    "            mean_loss+=loss_out.item()\n",
    "            \n",
    "            #Backward and updates\n",
    "            loss_out.backward()\n",
    "            optimizer.step()\n",
    "\n",
    "            #Computing accuracy\n",
    "            if (prediction >= 0.5 and label==1) or (prediction<0.5 and label==0):\n",
    "                accuracy += 1\n",
    "            \n",
    "        mean_loss_train.append(mean_loss/len(X_train))\n",
    "        accuracy_train.append(accuracy/len(X_train))\n",
    "        \n",
    "        print(\"EPOCH\" , str(i+1) ,\"On the training data : mean loss is :\" , mean_loss/len(X_train) , \"accuracy is: \" ,accuracy/len(X_train))\n",
    "\n",
    "\n",
    "        mean_loss = 0\n",
    "        accuracy = 0\n",
    "        \n",
    "        #testing on dev data\n",
    "        for sentence,label in zip(X_dev,y_dev):\n",
    "            data = torch.LongTensor([Dict_index.str_to_id(word) for word in sentence])\n",
    "            label = torch.Tensor([label])\n",
    "            \n",
    "            #prediction and loss\n",
    "            prediction = model(data)\n",
    "            loss_out = loss(prediction , label)\n",
    "            \n",
    "            mean_loss+=loss_out.item()\n",
    "            \n",
    "            \n",
    "            #computing accuracy\n",
    "            if (prediction >= 0.5 and label==1) or (prediction < 0.5 and label==0):\n",
    "                accuracy += 1\n",
    "            \n",
    "        print(\"EPOCH\" , str(i+1) ,\"On the dev data : mean loss is : \" , mean_loss/len(X_dev) , \" accuracy is : \" ,accuracy/len(X_dev))\n",
    "        print(\"----------------------------------------------------------------------------\")\n",
    "        mean_loss_dev.append(mean_loss/len(X_dev))\n",
    "        accuracy_dev.append(accuracy/len(X_dev))\n",
    "          \n",
    "            \n",
    "            \n",
    "    #Plotting accuracy curves for dev and train data\n",
    "    plt.figure()\n",
    "    plt.plot(accuracy_train , label='Train')\n",
    "    plt.plot(accuracy_dev, label=\"Dev\")\n",
    "    plt.title(\"Accuracy in term of epochs\")\n",
    "    plt.xlabel(\"Epochs\")\n",
    "    plt.ylabel(\"Accuracy\")\n",
    "    plt.legend()\n",
    "    \n",
    "    #Plotting loss curves for dev and train data\n",
    "    plt.figure()    \n",
    "    plt.plot(mean_loss_train , label='Train')\n",
    "    plt.plot(mean_loss_dev, label=\"Dev\")\n",
    "    plt.title(\"Loss in term of epochs\")\n",
    "    plt.xlabel(\"Epochs\")\n",
    "    plt.ylabel(\"Loss\")\n",
    "    plt.legend()\n",
    "    "
   ]
  },
  {
   "cell_type": "code",
   "execution_count": null,
   "metadata": {},
   "outputs": [],
   "source": [
    "#Calculating accuracy on test data\n",
    "def test_accuracy(model,  X_test , y_test):\n",
    "    \n",
    "    accuracy = 0\n",
    "    mean_loss = 0\n",
    "        \n",
    "    for sentence,label in zip(X_test,y_test):\n",
    "        data = torch.LongTensor([Dict_index.str_to_id(word) for word in sentence])\n",
    "        label = torch.Tensor([label])\n",
    "             \n",
    "        pred = model(data)\n",
    "        loss_out = loss(pred , label)\n",
    "        mean_loss += loss_out.item()\n",
    "                        \n",
    "            \n",
    "        #computing accuracy\n",
    "        if (pred >= 0.5 and label==1) or (pred<0.5 and label==0):\n",
    "            accuracy += 1\n",
    "\n",
    "            \n",
    "    print(\"Accuracy on test set for this model is\" , accuracy/len(X_test))\n",
    "    return(accuracy/len(X_test))"
   ]
  },
  {
   "cell_type": "markdown",
   "metadata": {},
   "source": [
    "## CNN with pretrained data "
   ]
  },
  {
   "cell_type": "code",
   "execution_count": 10,
   "metadata": {},
   "outputs": [],
   "source": [
    "def reg(inputs,kernel_size):\n",
    "    \n",
    "    if(inputs.shape[0]<kernel_size):\n",
    "        pad = torch.tensor([0 for i in range(kernel_size-inputs.shape[0])])\n",
    "        inputs = torch.cat((inputs, pad), 0)\n",
    "    return(inputs)  \n",
    "\n",
    "def Conv(inputs,kernel_size, conv):\n",
    "    concat_inp = []\n",
    "    for i in range(inputs.shape[0]-kernel_size+1):\n",
    "        Y = [inputs[j] for j in range(i, kernel_size+i)]\n",
    "        concat = torch.cat(Y, 0)\n",
    "        concat_inp.append(F.relu(conv(concat)) )\n",
    "    return(concat_inp)\n",
    "\n",
    "def Pooling(concat_list,pool_choice):\n",
    "    \n",
    "    h_ = torch.stack(concat_list)\n",
    "    if pool_choice == \"max\":\n",
    "        h_, _ = torch.max(h_, 0)\n",
    "    if pool_choice == \"mean\":\n",
    "        h_ = torch.mean(h_, 0)        \n",
    "    return(h_)\n",
    "\n",
    "def rec(proj,h,index):\n",
    "    \n",
    "    if index == len(proj)-1 :\n",
    "        return(proj[index](h))\n",
    "    \n",
    "    z = torch.tanh(proj[index](h))\n",
    "    index +=1\n",
    "    return(rec(proj,z,index))"
   ]
  },
  {
   "cell_type": "code",
   "execution_count": 17,
   "metadata": {},
   "outputs": [],
   "source": [
    "class CNN_pretrained(nn.Module):\n",
    "    def __init__(self, vocab_size, weights_matrix, kernel_size, feature_size , pool_choice):\n",
    "        super(CNN_pretrained, self).__init__()\n",
    "        \n",
    "        #Parameters\n",
    "        self.kernel_size = kernel_size\n",
    "        self.feature_size = feature_size\n",
    "        self.pool_choice  = pool_choice        \n",
    "\n",
    "        #Embedding layer\n",
    "        self.embeddings, _, embedding_dim = create_emb_layer(torch.tensor(weights_matrix), False)\n",
    "        \n",
    "        #Convolution layer\n",
    "        self.convs = nn.ModuleList([nn.Linear(embedding_dim*kernel_size[i],feature_size[0]) for i in range(len(kernel_size))])\n",
    "        \n",
    "        #output projection\n",
    "        self.projs = nn.ModuleList([nn.Linear(feature_size[0]*len(kernel_size),feature_size[1])]+ \n",
    "                                   [nn.Linear(feature_size[i],feature_size[i+1])\n",
    "                                    for i in range(1,len(feature_size)-1)])\n",
    "        \n",
    "        # Parameter initialization  \n",
    "        for i in range(len(self.projs)):\n",
    "            nn.init.xavier_uniform_(self.projs[i].weight.data)\n",
    "            nn.init.zeros_(self.projs[i].bias.data)\n",
    "            \n",
    "        #dropout\n",
    "        #self.dropout = nn.Dropout(p=0.5)  \n",
    "        \n",
    "    def forward(self, inputs):\n",
    "        \n",
    "        kernel_size = self.kernel_size\n",
    "        pool_choice = self.pool_choice        \n",
    "        #prepare the inputs\n",
    "        inputs = [reg(inputs,kernel_size[i]) for i in range(len(kernel_size))]\n",
    "        \n",
    "        #Embending\n",
    "        inp = [self.embeddings(inputs[i]) for i in range(len(kernel_size))]\n",
    "\n",
    "        #Conv\n",
    "        concat_inp = [Conv(inp[i],kernel_size[i], self.convs[i]) for i in range(len(kernel_size))]\n",
    "        \n",
    "        #Pooling\n",
    "        h = [Pooling(concat_inp[i],pool_choice) for i in range(len(kernel_size))]\n",
    "        \n",
    "        #Concatenate the two output of convolution layer\n",
    "        res = torch.cat(h,0)\n",
    "        \n",
    "        output = rec(self.projs,res,0)\n",
    "\n",
    "        return output"
   ]
  },
  {
   "cell_type": "markdown",
   "metadata": {},
   "source": [
    "Source : https://medium.com/@martinpella/how-to-use-pre-trained-word-embeddings-in-pytorch-71ca59249f76"
   ]
  },
  {
   "cell_type": "code",
   "execution_count": 12,
   "metadata": {},
   "outputs": [],
   "source": [
    "import bcolz\n",
    "import pickle"
   ]
  },
  {
   "cell_type": "code",
   "execution_count": 13,
   "metadata": {},
   "outputs": [],
   "source": [
    "words = []\n",
    "idx = 0\n",
    "word2idx = {}\n",
    "glove_path = '.'\n",
    "vectors = bcolz.carray(np.zeros(1), rootdir=f'{glove_path}/6B.50.dat', mode='w')\n",
    "\n",
    "with open(f'{glove_path}/glove.6B.50d.txt', 'rb') as f:\n",
    "    for l in f:\n",
    "        line = l.decode().split()\n",
    "        word = line[0]\n",
    "        words.append(word)\n",
    "        word2idx[word] = idx\n",
    "        idx += 1\n",
    "        vect = np.array(line[1:]).astype(np.float)\n",
    "        vectors.append(vect)\n",
    "    \n",
    "vectors = bcolz.carray(vectors[1:].reshape((400000, 50)), rootdir=f'{glove_path}/6B.50.dat', mode='w')\n",
    "vectors.flush()\n",
    "pickle.dump(words, open(f'{glove_path}/6B.50_words.pkl', 'wb'))\n",
    "pickle.dump(word2idx, open(f'{glove_path}/6B.50_idx.pkl', 'wb'))"
   ]
  },
  {
   "cell_type": "code",
   "execution_count": 14,
   "metadata": {},
   "outputs": [],
   "source": [
    "vectors = bcolz.open(f'{glove_path}/6B.50.dat')[:]\n",
    "words = pickle.load(open(f'{glove_path}/6B.50_words.pkl', 'rb'))\n",
    "word2idx = pickle.load(open(f'{glove_path}/6B.50_idx.pkl', 'rb'))\n",
    "\n",
    "glove = {w: vectors[word2idx[w]] for w in words}"
   ]
  },
  {
   "cell_type": "code",
   "execution_count": 15,
   "metadata": {},
   "outputs": [
    {
     "data": {
      "text/plain": [
       "(7113, 50)"
      ]
     },
     "execution_count": 15,
     "metadata": {},
     "output_type": "execute_result"
    }
   ],
   "source": [
    "matrix_len = len(Dict_index)\n",
    "weights_matrix = np.zeros((matrix_len, 50))\n",
    "words_found = 0\n",
    "\n",
    "for i in range (len(Dict_index)):\n",
    "    try: \n",
    "        weights_matrix[i] = glove[Dict_index.id_to_str(i)]\n",
    "        words_found += 1\n",
    "    except KeyError:\n",
    "        weights_matrix[i] = np.random.normal(scale=0.6, size=(50, ))\n",
    "weights_matrix.shape\n"
   ]
  },
  {
   "cell_type": "code",
   "execution_count": 16,
   "metadata": {},
   "outputs": [],
   "source": [
    "def create_emb_layer(weights_matrix, non_trainable=False):\n",
    "    num_embeddings, embedding_dim = weights_matrix.shape\n",
    "    emb_layer = nn.Embedding(num_embeddings, embedding_dim)\n",
    "    emb_layer.load_state_dict({'weight': weights_matrix})\n",
    "    if non_trainable:\n",
    "        emb_layer.weight.requires_grad = False\n",
    "\n",
    "    return emb_layer, num_embeddings, embedding_dim"
   ]
  },
  {
   "cell_type": "code",
   "execution_count": 19,
   "metadata": {},
   "outputs": [
    {
     "name": "stdout",
     "output_type": "stream",
     "text": [
      "EPOCH 1 On the training data : mean loss is : 0.5669661362179108 accuracy is:  0.6632098765432098\n",
      "EPOCH 1 On the dev data : mean loss is :  0.5035964298445069  accuracy is :  0.766\n",
      "----------------------------------------------------------------------------\n",
      "EPOCH 2 On the training data : mean loss is : 0.4412463931192241 accuracy is:  0.7683950617283951\n",
      "EPOCH 2 On the dev data : mean loss is :  0.4441615254799494  accuracy is :  0.752\n",
      "----------------------------------------------------------------------------\n",
      "EPOCH 3 On the training data : mean loss is : 0.3944334196314593 accuracy is:  0.7980246913580247\n",
      "EPOCH 3 On the dev data : mean loss is :  0.45495784322813415  accuracy is :  0.764\n",
      "----------------------------------------------------------------------------\n",
      "EPOCH 4 On the training data : mean loss is : 0.3456728720220883 accuracy is:  0.8317283950617284\n",
      "EPOCH 4 On the dev data : mean loss is :  0.45203407478633295  accuracy is :  0.75\n",
      "----------------------------------------------------------------------------\n",
      "EPOCH 5 On the training data : mean loss is : 0.3197104116070076 accuracy is:  0.8495061728395061\n",
      "EPOCH 5 On the dev data : mean loss is :  0.47467368276561206  accuracy is :  0.764\n",
      "----------------------------------------------------------------------------\n",
      "EPOCH 6 On the training data : mean loss is : 0.278216509788224 accuracy is:  0.8793827160493827\n",
      "EPOCH 6 On the dev data : mean loss is :  0.5097246519715423  accuracy is :  0.757\n",
      "----------------------------------------------------------------------------\n",
      "EPOCH 7 On the training data : mean loss is : 0.2588901498122352 accuracy is:  0.8887654320987655\n",
      "EPOCH 7 On the dev data : mean loss is :  0.47221583426049485  accuracy is :  0.751\n",
      "----------------------------------------------------------------------------\n",
      "EPOCH 8 On the training data : mean loss is : 0.22572541818447633 accuracy is:  0.9035802469135803\n",
      "EPOCH 8 On the dev data : mean loss is :  0.5323940253681049  accuracy is :  0.772\n",
      "----------------------------------------------------------------------------\n",
      "EPOCH 9 On the training data : mean loss is : 0.22120263177062915 accuracy is:  0.9087654320987655\n",
      "EPOCH 9 On the dev data : mean loss is :  0.5234391656990562  accuracy is :  0.766\n",
      "----------------------------------------------------------------------------\n",
      "EPOCH 10 On the training data : mean loss is : 0.1903653254038658 accuracy is:  0.9258024691358024\n",
      "EPOCH 10 On the dev data : mean loss is :  0.5735853855642584  accuracy is :  0.761\n",
      "----------------------------------------------------------------------------\n",
      "EPOCH 11 On the training data : mean loss is : 0.182330294425001 accuracy is:  0.9292592592592592\n",
      "EPOCH 11 On the dev data : mean loss is :  0.5697099943955521  accuracy is :  0.76\n",
      "----------------------------------------------------------------------------\n",
      "EPOCH 12 On the training data : mean loss is : 0.1603821267931105 accuracy is:  0.9412345679012346\n",
      "EPOCH 12 On the dev data : mean loss is :  0.5493380237560814  accuracy is :  0.756\n",
      "----------------------------------------------------------------------------\n"
     ]
    },
    {
     "data": {
      "image/png": "[encoded data removed]",
      "text/plain": [
       "<Figure size 432x288 with 1 Axes>"
      ]
     },
     "metadata": {},
     "output_type": "display_data"
    },
    {
     "data": {
      "image/png": "[encoded data removed]",
      "text/plain": [
       "<Figure size 432x288 with 1 Axes>"
      ]
     },
     "metadata": {},
     "output_type": "display_data"
    }
   ],
   "source": [
    "loss = nn.BCEWithLogitsLoss()\n",
    "model= CNN_pretrained(len(Dict_index), weights_matrix, [3], [5,1], \"mean\")\n",
    "optimizer_SGD = torch.optim.SGD(params=model.parameters(), lr=0.1, weight_decay=1e-3)\n",
    "train(model , 12 ,txt_train ,label_train, txt_dev, label_dev, optimizer_SGD ,0.1)"
   ]
  },
  {
   "cell_type": "code",
   "execution_count": 20,
   "metadata": {},
   "outputs": [
    {
     "name": "stdout",
     "output_type": "stream",
     "text": [
      "Accuracy on test set for this model is 0.7611111111111111\n"
     ]
    },
    {
     "data": {
      "text/plain": [
       "0.7611111111111111"
      ]
     },
     "execution_count": 20,
     "metadata": {},
     "output_type": "execute_result"
    }
   ],
   "source": [
    "test_accuracy(model,  txt_test , label_test)"
   ]
  }
 ],
 "metadata": {
  "kernelspec": {
   "display_name": "Python 3",
   "language": "python",
   "name": "python3"
  },
  "language_info": {
   "codemirror_mode": {
    "name": "ipython",
    "version": 3
   },
   "file_extension": ".py",
   "mimetype": "text/x-python",
   "name": "python",
   "nbconvert_exporter": "python",
   "pygments_lexer": "ipython3",
   "version": "3.6.5"
  }
 },
 "nbformat": 4,
 "nbformat_minor": 2
}
