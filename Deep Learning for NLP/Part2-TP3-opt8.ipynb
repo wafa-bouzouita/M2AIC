{
 "cells": [
  {
   "cell_type": "markdown",
   "metadata": {},
   "source": [
    "# Part 2 : Variational Auto-Encoder\n",
    "The goal of the second part is to build a variational auto-encoder, to do that we need two networks : \n",
    "\n",
    "* An encoder that will take as input an image and compute the parameters of list of Normal distributions.\n",
    "* A decoder that will take a sample from each Normal distribution and will output an image.\n",
    "\n",
    "For simplicity we will assume that : \n",
    "\n",
    "* Each network as a single hidden layer of size 100.\n",
    "* The latent space contains only 2 points."
   ]
  },
  {
   "cell_type": "code",
   "execution_count": 1,
   "metadata": {},
   "outputs": [],
   "source": [
    "# import libs that we will use\n",
    "import os\n",
    "import numpy as np\n",
    "import matplotlib.pyplot as plt\n",
    "import math\n",
    "import torch\n",
    "import torch.nn as nn \n",
    "import torch.nn.functional as F\n",
    "import time\n",
    "import copy\n",
    "from itertools import chain\n",
    "\n",
    "# To load the data we will use the script of Gaetan Marceau Caron\n",
    "# You can download it from the course webiste and move it to the same directory that contains this ipynb file\n",
    "import dataset_loader\n",
    "\n",
    "%matplotlib inline"
   ]
  },
  {
   "cell_type": "markdown",
   "metadata": {},
   "source": [
    "## Data preparation"
   ]
  },
  {
   "cell_type": "code",
   "execution_count": 2,
   "metadata": {},
   "outputs": [
    {
     "name": "stdout",
     "output_type": "stream",
     "text": [
      "label: 2\n"
     ]
    },
    {
     "data": {
      "text/plain": [
       "<matplotlib.image.AxesImage at 0x1b5b44379e8>"
      ]
     },
     "execution_count": 2,
     "metadata": {},
     "output_type": "execute_result"
    },
    {
     "data": {
      "image/png": "[encoded data removed]",
      "text/plain": [
       "<Figure size 432x288 with 1 Axes>"
      ]
     },
     "metadata": {},
     "output_type": "display_data"
    }
   ],
   "source": [
    "# Download mnist dataset \n",
    "if(\"mnist.pkl.gz\" not in os.listdir(\".\")):\n",
    "    !wget http://deeplearning.net/data/mnist/mnist.pkl.gz\n",
    "\n",
    "# if you have it somewhere else, you can comment the lines above\n",
    "# and overwrite the path below\n",
    "mnist_path = \"./mnist.pkl.gz\"\n",
    "\n",
    "\n",
    "# load the 3 splits\n",
    "train_data, dev_data, test_data = dataset_loader.load_mnist(mnist_path)\n",
    "\n",
    "\n",
    "index = 900\n",
    "label = train_data[1][index]\n",
    "picture = train_data[0][index]\n",
    "\n",
    "print(\"label: %i\" % label)\n",
    "plt.imshow(picture.reshape(28,28), cmap='Greys')"
   ]
  },
  {
   "cell_type": "code",
   "execution_count": 3,
   "metadata": {},
   "outputs": [
    {
     "name": "stdout",
     "output_type": "stream",
     "text": [
      "torch.Size([784])\n",
      "torch.Size([1, 784])\n"
     ]
    }
   ],
   "source": [
    "first = 20\n",
    "image = torch.from_numpy(train_data[0][first])\n",
    "print(image.shape) # flat image of dim (784,)\n",
    "\n",
    "# reshape the tensor so it is represented as a batch containing a single image\n",
    "# -1 means \"all remaining elements\", here it would be equivalent to image.reshape(1, 784)\n",
    "image = image.reshape(1, -1)\n",
    "print(image.shape) # flat image of dim (1, 784)"
   ]
  },
  {
   "cell_type": "code",
   "execution_count": 4,
   "metadata": {},
   "outputs": [
    {
     "name": "stdout",
     "output_type": "stream",
     "text": [
      "torch.Size([10, 784])\n"
     ]
    }
   ],
   "source": [
    "# Constructing a batched input\n",
    "batch_size = 10\n",
    "first = 20\n",
    "\n",
    "# the cat() function concatenates a list of tensor along a dimension\n",
    "batch_input = torch.cat(\n",
    "    [\n",
    "        # we reshape the image tensor so it has dimension (1, 784)\n",
    "        torch.from_numpy(image).reshape(1, -1)\n",
    "        for image in train_data[0][first:first + batch_size]\n",
    "    ],\n",
    "    # we want to concatenate on the batch dimension\n",
    "    dim=0\n",
    ")\n",
    "print(batch_input.shape)  # batch of ten flat images (10, 784)"
   ]
  },
  {
   "cell_type": "markdown",
   "metadata": {},
   "source": [
    "## Encoder \n",
    "\n",
    "* Compute a hidden representation:  $z=relu(W^1x+b^1)$.\n",
    "* Compute the means of the normal distributions:  $mu=W^2x+b^2$.\n",
    "* Compute the log variance of the normal distributions:  $log\\_sigma\\_squared=W^3x+b^3$."
   ]
  },
  {
   "cell_type": "code",
   "execution_count": 13,
   "metadata": {},
   "outputs": [],
   "source": [
    "class Encoder(nn.Module):\n",
    "    def __init__(self):\n",
    "        super().__init__()\n",
    "        \n",
    "        self.fc1 = nn.Linear(28 * 28, 100)\n",
    "        self.fc2 = nn.Linear(100, 2)\n",
    "        self.fc3 = nn.Linear(100, 2)\n",
    "\n",
    "    def forward(self, x):\n",
    "        \n",
    "        k = F.relu(self.fc1(x))\n",
    "        mu = self.fc2(k)\n",
    "        log_sigma_squared = self.fc3(k)\n",
    "        \n",
    "        # reparametrization trick\n",
    "        \n",
    "        std_tmp = log_sigma_squared.mul(0.5).exp_()\n",
    "        e = torch.FloatTensor(std_tmp.size()).normal_()\n",
    "        z = e.mul(std_tmp).add_(mu)\n",
    "        \n",
    "        return z, mu, log_sigma_squared\n",
    "    "
   ]
  },
  {
   "cell_type": "markdown",
   "metadata": {},
   "source": [
    "## Decoder\n",
    "\n",
    "It is a simple MLP."
   ]
  },
  {
   "cell_type": "code",
   "execution_count": 6,
   "metadata": {},
   "outputs": [],
   "source": [
    "class Decoder(nn.Module):\n",
    "    def __init__(self):\n",
    "        super().__init__()\n",
    "        \n",
    "        self.hidden = nn.Linear(2, 100)\n",
    "        self.out = nn.Linear(100, 784)\n",
    "        \n",
    "    def forward(self, x):\n",
    "\n",
    "        z = F.relu(self.hidden(x))\n",
    "        return self.out(z)"
   ]
  },
  {
   "cell_type": "markdown",
   "metadata": {},
   "source": [
    "## Loss"
   ]
  },
  {
   "cell_type": "markdown",
   "metadata": {},
   "source": [
    "For the reconstruction loss, use the Binary Cross Entropy loss:"
   ]
  },
  {
   "cell_type": "code",
   "execution_count": 7,
   "metadata": {},
   "outputs": [],
   "source": [
    "loss = nn.BCEWithLogitsLoss(reduction=\"sum\")"
   ]
  },
  {
   "cell_type": "markdown",
   "metadata": {},
   "source": [
    "The formula of the KL divergence with the prior is as follows:"
   ]
  },
  {
   "cell_type": "code",
   "execution_count": 8,
   "metadata": {},
   "outputs": [],
   "source": [
    "def loss_function(batch, x, mean, log_sigma):\n",
    "    # error reconstruction\n",
    "    recons_error = loss(batch, x)\n",
    "    # KL divergence\n",
    "    KL_div = mean.pow(2).add_(log_sigma.exp()).mul_(-1).add_(1).add_(log_sigma)\n",
    "    KL_div = torch.sum(KL_div).mul_(-0.5)\n",
    "    # total loss\n",
    "    t_loss =  KL_div + recons_error\n",
    "    return t_loss"
   ]
  },
  {
   "cell_type": "markdown",
   "metadata": {},
   "source": [
    "## Training"
   ]
  },
  {
   "cell_type": "markdown",
   "metadata": {},
   "source": [
    "##### Recomended hyperparameter :\n",
    "* Optimizer : Adam\n",
    "* N. epochs : 50\n",
    "* Use gradient clipping\n",
    "* Large batch size, e.g. 128"
   ]
  },
  {
   "cell_type": "code",
   "execution_count": 9,
   "metadata": {},
   "outputs": [],
   "source": [
    "def get_batches(data):\n",
    "    batches =  [torch.from_numpy(data[0][i:i+batch_size]) for i in range(0, len(data[0]), batch_size)]\n",
    "    return(batches)\n",
    "\n",
    "def train(encoder, decoder):\n",
    "    \n",
    "    #optimizer\n",
    "    optimizer = torch.optim.Adam(chain(encoder.parameters(), decoder.parameters()))\n",
    "    \n",
    "    start_time = time.time()\n",
    "    \n",
    "    for epoch in range(Epochs):\n",
    "        # train mode\n",
    "        encoder.train()\n",
    "        decoder.train()\n",
    "        \n",
    "        mean_loss = 0\n",
    "        \n",
    "        for x in get_batches(train_data):\n",
    "            # forward\n",
    "            z, mean, std = encoder(x)\n",
    "            reconstructed = decoder(z)\n",
    "            Loss = loss_function(reconstructed, x, mean, std)\n",
    "            \n",
    "            # mean loss\n",
    "            mean_loss += Loss.item()/(len(train_data[0]) * batch_size)\n",
    "            \n",
    "            # udpate\n",
    "            optimizer.zero_grad()\n",
    "            Loss.backward()\n",
    "            torch.nn.utils.clip_grad_value_(chain(encoder.parameters(), decoder.parameters()), 5.)\n",
    "            optimizer.step()\n",
    "            \n",
    "        print(\"in epoch = \", epoch, \" training loss = \", mean_loss)\n",
    "    \n",
    "    duration = time.strftime(\"%H:%M:%S\", time.gmtime(time.time() - start_time))\n",
    "    print(\"Training finish in \", duration)"
   ]
  },
  {
   "cell_type": "code",
   "execution_count": 10,
   "metadata": {},
   "outputs": [
    {
     "name": "stdout",
     "output_type": "stream",
     "text": [
      "in epoch =  0  training loss =  1.621596943817139\n",
      "in epoch =  1  training loss =  1.3610474234008803\n",
      "in epoch =  2  training loss =  1.3130235847473137\n",
      "in epoch =  3  training loss =  1.2952627339172353\n",
      "in epoch =  4  training loss =  1.2831251457214357\n",
      "in epoch =  5  training loss =  1.274304443054199\n",
      "in epoch =  6  training loss =  1.266865034484862\n",
      "in epoch =  7  training loss =  1.2603376704406732\n",
      "in epoch =  8  training loss =  1.2544257232666014\n",
      "in epoch =  9  training loss =  1.248815442199707\n",
      "in epoch =  10  training loss =  1.244352988891601\n",
      "in epoch =  11  training loss =  1.2399838766479503\n",
      "in epoch =  12  training loss =  1.2362778343200684\n",
      "in epoch =  13  training loss =  1.2331795849609366\n",
      "in epoch =  14  training loss =  1.230121720428467\n",
      "in epoch =  15  training loss =  1.2274957473754886\n",
      "in epoch =  16  training loss =  1.2251807649230948\n",
      "in epoch =  17  training loss =  1.2229579133605943\n",
      "in epoch =  18  training loss =  1.2211712791442872\n",
      "in epoch =  19  training loss =  1.2193355404663073\n",
      "in epoch =  20  training loss =  1.2178499334716797\n",
      "in epoch =  21  training loss =  1.216020188598633\n",
      "in epoch =  22  training loss =  1.214720536651611\n",
      "in epoch =  23  training loss =  1.2131151255798331\n",
      "in epoch =  24  training loss =  1.2117675994873045\n",
      "in epoch =  25  training loss =  1.2107011723327643\n",
      "in epoch =  26  training loss =  1.2094292019653325\n",
      "in epoch =  27  training loss =  1.2085407952880851\n",
      "in epoch =  28  training loss =  1.2073671214294432\n",
      "in epoch =  29  training loss =  1.2060179730224614\n",
      "in epoch =  30  training loss =  1.2052209294128422\n",
      "in epoch =  31  training loss =  1.2043686532592779\n",
      "in epoch =  32  training loss =  1.2035065705871584\n",
      "in epoch =  33  training loss =  1.2030830680847167\n",
      "in epoch =  34  training loss =  1.202239435119628\n",
      "in epoch =  35  training loss =  1.2009218833923325\n",
      "in epoch =  36  training loss =  1.200240163269043\n",
      "in epoch =  37  training loss =  1.1996802854919442\n",
      "in epoch =  38  training loss =  1.1985904690551763\n",
      "in epoch =  39  training loss =  1.1983143663024896\n",
      "in epoch =  40  training loss =  1.1974424790954594\n",
      "in epoch =  41  training loss =  1.1969850248718257\n",
      "in epoch =  42  training loss =  1.1960166090393056\n",
      "in epoch =  43  training loss =  1.1955648622131345\n",
      "in epoch =  44  training loss =  1.1949982397460928\n",
      "in epoch =  45  training loss =  1.194280603179932\n",
      "in epoch =  46  training loss =  1.1937203340148925\n",
      "in epoch =  47  training loss =  1.193238812561036\n",
      "in epoch =  48  training loss =  1.192672320709229\n",
      "in epoch =  49  training loss =  1.1921940788269045\n",
      "Training finish in  00:03:29\n"
     ]
    }
   ],
   "source": [
    "##Recomended hyperparameter\n",
    "Epochs = 50\n",
    "batch_size = 128\n",
    "# training\n",
    "Decoder = Decoder()\n",
    "Encoder = Encoder()\n",
    "train(Encoder, Decoder)"
   ]
  },
  {
   "cell_type": "markdown",
   "metadata": {},
   "source": [
    "## Generate new images"
   ]
  },
  {
   "cell_type": "code",
   "execution_count": 12,
   "metadata": {},
   "outputs": [
    {
     "data": {
      "image/png": "[encoded data removed]",
      "text/plain": [
       "<Figure size 432x288 with 1 Axes>"
      ]
     },
     "metadata": {},
     "output_type": "display_data"
    },
    {
     "data": {
      "image/png": "[encoded data removed]",
      "text/plain": [
       "<Figure size 432x288 with 1 Axes>"
      ]
     },
     "metadata": {},
     "output_type": "display_data"
    },
    {
     "data": {
      "image/png": "[encoded data removed]",
      "text/plain": [
       "<Figure size 432x288 with 1 Axes>"
      ]
     },
     "metadata": {},
     "output_type": "display_data"
    },
    {
     "data": {
      "image/png": "[encoded data removed]",
      "text/plain": [
       "<Figure size 432x288 with 1 Axes>"
      ]
     },
     "metadata": {},
     "output_type": "display_data"
    },
    {
     "data": {
      "image/png": "[encoded data removed]",
      "text/plain": [
       "<Figure size 432x288 with 1 Axes>"
      ]
     },
     "metadata": {},
     "output_type": "display_data"
    },
    {
     "data": {
      "image/png": "[encoded data removed]",
      "text/plain": [
       "<Figure size 432x288 with 1 Axes>"
      ]
     },
     "metadata": {},
     "output_type": "display_data"
    },
    {
     "data": {
      "image/png": "[encoded data removed]",
      "text/plain": [
       "<Figure size 432x288 with 1 Axes>"
      ]
     },
     "metadata": {},
     "output_type": "display_data"
    },
    {
     "data": {
      "image/png": "[encoded data removed]",
      "text/plain": [
       "<Figure size 432x288 with 1 Axes>"
      ]
     },
     "metadata": {},
     "output_type": "display_data"
    },
    {
     "data": {
      "image/png": "[encoded data removed]",
      "text/plain": [
       "<Figure size 432x288 with 1 Axes>"
      ]
     },
     "metadata": {},
     "output_type": "display_data"
    },
    {
     "data": {
      "image/png": "[encoded data removed]",
      "text/plain": [
       "<Figure size 432x288 with 1 Axes>"
      ]
     },
     "metadata": {},
     "output_type": "display_data"
    }
   ],
   "source": [
    "e = torch.normal(0, 1., (10, 2))\n",
    "images = Decoder(e).sigmoid()\n",
    "\n",
    "for i in range(10):\n",
    "    picture = images[i].clone().detach().numpy()\n",
    "    plt.imshow(picture.reshape(28,28), cmap='Greys')\n",
    "    plt.show()"
   ]
  }
 ],
 "metadata": {
  "kernelspec": {
   "display_name": "Python 3",
   "language": "python",
   "name": "python3"
  },
  "language_info": {
   "codemirror_mode": {
    "name": "ipython",
    "version": 3
   },
   "file_extension": ".py",
   "mimetype": "text/x-python",
   "name": "python",
   "nbconvert_exporter": "python",
   "pygments_lexer": "ipython3",
   "version": "3.6.5"
  }
 },
 "nbformat": 4,
 "nbformat_minor": 2
}
