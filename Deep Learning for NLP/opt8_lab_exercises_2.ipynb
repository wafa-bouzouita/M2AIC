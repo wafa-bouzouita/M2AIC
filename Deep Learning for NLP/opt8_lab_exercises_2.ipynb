{
 "cells": [
  {
   "cell_type": "markdown",
   "metadata": {},
   "source": [
    "# Deep Learning - Lab Exercise 2\n",
    "\n",
    "**WARNING:** you must have finished the first exercise before this one as you will re-use parts of the code.\n",
    "\n",
    "In the first lab exercise, we built a simple linear classifier.\n",
    "Although it can give reasonable results on the MNIST dataset (~92.5% of accuracy), deeper neural networks can achieve more the 99% accuracy on this dataset.\n",
    "However, it can quickly become really impractical to explicitly code forward and backward passes.\n",
    "Hence, it is useful to rely on an auto-diff library where we specify the forward pass only, and the backward pass is automatically deduced from the computational graph structure.\n",
    "\n",
    "In this lab exercise, we will build a small and simple auto-diff lib that mimics the autograd mechanism from Pytorch (of course, we will simplify a lot!)\n",
    "There is two goal:\n",
    "- write the missing code\n",
    "- understand the general structure of an auto-diff lib by looking closely at the code. It will help you to understand how Pytorch works!"
   ]
  },
  {
   "cell_type": "code",
   "execution_count": 1,
   "metadata": {},
   "outputs": [],
   "source": [
    "# import libs that we will use\n",
    "import os\n",
    "import numpy as np\n",
    "import matplotlib.pyplot as plt\n",
    "import math\n",
    "\n",
    "# To load the data we will use the script of Gaetan Marceau Caron\n",
    "# You can download it from the course webiste and move it to the same directory that contains this ipynb file\n",
    "import dataset_loader\n",
    "\n",
    "%matplotlib inline"
   ]
  },
  {
   "cell_type": "markdown",
   "metadata": {},
   "source": [
    "# Data"
   ]
  },
  {
   "cell_type": "code",
   "execution_count": 2,
   "metadata": {},
   "outputs": [],
   "source": [
    "# Download mnist dataset \n",
    "if(\"mnist.pkl.gz\" not in os.listdir(\".\")):\n",
    "    !wget http://deeplearning.net/data/mnist/mnist.pkl.gz\n",
    "\n",
    "# if you have it somewhere else, you can comment the lines above\n",
    "# and overwrite the path below\n",
    "mnist_path = \"./mnist.pkl.gz\""
   ]
  },
  {
   "cell_type": "code",
   "execution_count": 3,
   "metadata": {},
   "outputs": [],
   "source": [
    "# load the 3 splits\n",
    "train_data, dev_data, test_data = dataset_loader.load_mnist(mnist_path)"
   ]
  },
  {
   "cell_type": "code",
   "execution_count": 4,
   "metadata": {},
   "outputs": [
    {
     "name": "stdout",
     "output_type": "stream",
     "text": [
      "label: 4\n"
     ]
    },
    {
     "data": {
      "text/plain": [
       "<matplotlib.image.AxesImage at 0x27807660080>"
      ]
     },
     "execution_count": 4,
     "metadata": {},
     "output_type": "execute_result"
    },
    {
     "data": {
      "image/png": "[encoded data removed]",
      "text/plain": [
       "<Figure size 432x288 with 1 Axes>"
      ]
     },
     "metadata": {},
     "output_type": "display_data"
    }
   ],
   "source": [
    "index = 900\n",
    "label = train_data[1][index]\n",
    "picture = train_data[0][index]\n",
    "\n",
    "print(\"label: %i\" % label)\n",
    "plt.imshow(picture.reshape(28,28), cmap='Greys')"
   ]
  },
  {
   "cell_type": "markdown",
   "metadata": {},
   "source": [
    "# Computation nodes\n",
    "\n",
    "Instead of directly manipulating numpy arrays, we will manipulate abstraction that contains:\n",
    "- a value (i.e. a numpy array)\n",
    "- a bool indicating if we wish to compute the gradient with respect to the value\n",
    "- the gradient with respect to the value\n",
    "- the operation to call during backpropagation\n",
    "\n",
    "There will be two kinds of nodes:\n",
    "- Tensor: a generic computation node\n",
    "- Parameter: a computation node that is used to store parameters of the network. Parameters are always leaf nodes, i.e. they cannot be build from other computation nodes.\n",
    "\n",
    "Our implementation of the backward pass will be really simple and inefficient in the general case.\n",
    "We will just apply the derivative function for a given tensor and then call the ones of its antecedents, recursively.\n",
    "This simple algorithm is good enough for this exercise.\n",
    "You may want to look at the implementation of the relu (given below) to understand what you have to do.\n",
    "\n",
    "Note that a real implementation of backprop will store temporary values during forward that can be used during backward to improve computation speed. We do not do that here.\n",
    "\n",
    "**Report bonus:** give an example of computation graph for which this simple backprop implementation will be inefficient."
   ]
  },
  {
   "cell_type": "code",
   "execution_count": 5,
   "metadata": {},
   "outputs": [],
   "source": [
    "class Tensor:\n",
    "    def __init__(self, data, require_grad=False):\n",
    "        # test type of data: should be np array\n",
    "        if isinstance(data, float):\n",
    "            data = np.array([data,])\n",
    "        if type(data) != np.ndarray:\n",
    "            raise RuntimeError(\"Input should be a numpy array\")\n",
    "\n",
    "        # store data for this tensor\n",
    "        self.data = data\n",
    "        self.require_grad = require_grad\n",
    "        \n",
    "        # this values should be set to enable autograd!\n",
    "        self.gradient = None\n",
    "        self.d = None\n",
    "        self.backptr = None\n",
    "        \n",
    "    def zero_grad(self):\n",
    "        \"\"\"\n",
    "        Set the gradient of thie tensor to 0\n",
    "        \"\"\"\n",
    "        if self.require_grad:\n",
    "            self.gradient = np.zeros_like(self.data)\n",
    "            \n",
    "    def accumulate_gradient(self, gradient):\n",
    "        \"\"\"\n",
    "        Accumulte gradient for this tensor\n",
    "        \"\"\"\n",
    "        if gradient.shape != self.data.shape:\n",
    "            raise RuntimeError(\"Invalid gradient dimension\")\n",
    "\n",
    "        if self.gradient is None:\n",
    "            self.gradient = np.copy(gradient)\n",
    "        else:\n",
    "            self.gradient += gradient\n",
    "            \n",
    "    def backward(self, g=None):\n",
    "        \"\"\"\n",
    "        The backward pass!\n",
    "        If g != None, then g is the gradient for the current node.\n",
    "        i.e. g will be != None only for the loss output.\n",
    "        \n",
    "        You should call the function stored in self.d with correct arguments,\n",
    "        and then recursively call the backward methods of tensors in the backptr list if:\n",
    "        1. they require a gradient\n",
    "        2. they are of type Tensor: check with isinstance(o, Tensor)\n",
    "        \"\"\"\n",
    "        if not self.require_grad:  # stop right now if this node does not require a gradient\n",
    "            return\n",
    "        \n",
    "        if g is not None:\n",
    "            if isinstance(g, float):\n",
    "                g = np.array([g])\n",
    "            if type(g) != np.ndarray:\n",
    "                raise RuntimeError(\"Gradient should be a numpy array\")\n",
    "            if g.shape != self.data.shape:\n",
    "                raise RuntimeError(\"Gradient of different size than the value!\")\n",
    "                \n",
    "            self.gradient = g\n",
    "        \n",
    "        # TODO\n",
    "        self.d(self.backptr, self.gradient)\n",
    "        if self.backptr is None:\n",
    "            return\n",
    "        else :\n",
    "            for backptr in self.backptr:\n",
    "                if not isinstance(backptr, Parameter) and isinstance(backptr, Tensor):\n",
    "                    backptr.backward()\n",
    "    \n",
    "    \n",
    "class Parameter(Tensor):\n",
    "    \"\"\"\n",
    "    This class will be used to store parameters of the network only!\n",
    "    \"\"\"\n",
    "    def __init__(self, data, name=\"unamed\"):\n",
    "        super().__init__(data, require_grad=True)\n",
    "        self.name = name\n",
    "        self.gamma = np.zeros_like(self.data)\n",
    "        \n",
    "    def backward(self):\n",
    "        raise RuntimeError(\"You cannot backprop from a Parameter node\")"
   ]
  },
  {
   "cell_type": "markdown",
   "metadata": {},
   "source": [
    "# Functions\n",
    "\n",
    "Functions manipulate tensors and build the required information for autograd.\n",
    "A function returns a Tensor that should have require_grad = True if at least of the arguments require a gradient."
   ]
  },
  {
   "cell_type": "code",
   "execution_count": 6,
   "metadata": {},
   "outputs": [],
   "source": [
    "def any_require_grad(l):\n",
    "    \"\"\"\n",
    "    Input:\n",
    "    - l: an iterable (e.g. a list)\n",
    "    Ouput:\n",
    "    - True if any tensor in the input requires a gradient\n",
    "    \"\"\"\n",
    "    return any(t.require_grad for t in l)"
   ]
  },
  {
   "cell_type": "code",
   "execution_count": 7,
   "metadata": {},
   "outputs": [],
   "source": [
    "# Here is an exemple with the ReLU\n",
    "def relu(x):\n",
    "    v = np.maximum(0, x.data)\n",
    "    \n",
    "    output = Tensor(v, require_grad=x.require_grad)\n",
    "    output.d = backward_relu\n",
    "    output.backptr = [x]\n",
    "    \n",
    "    return output\n",
    "\n",
    "def backward_relu(backptr, g):\n",
    "    x, = backptr\n",
    "    \n",
    "    # the gradient is accumulated in the arguments only if required\n",
    "    if x.require_grad:\n",
    "        x.accumulate_gradient(g * (x.data > 0))"
   ]
  },
  {
   "cell_type": "code",
   "execution_count": 8,
   "metadata": {},
   "outputs": [],
   "source": [
    "#TODO\n",
    "def tanh(x):\n",
    "    v = np.tanh(x.data)\n",
    "    \n",
    "    output = Tensor(v, require_grad=x.require_grad)\n",
    "    output.d = backward_tanh\n",
    "    output.backptr = [x]\n",
    "    \n",
    "    return output\n",
    "\n",
    "def backward_tanh(backptr, g):\n",
    "    x, = backptr\n",
    "    \n",
    "    # the gradient is accumulated in the arguments only if required\n",
    "    if x.require_grad:\n",
    "        x.accumulate_gradient(g*(1-np.power(np.tanh(x.data),2)))"
   ]
  },
  {
   "cell_type": "markdown",
   "metadata": {},
   "source": [
    "Next, we implement the affine transform operation.\n",
    "You can reuse the code from the first lab exercise, with one difference: you have to compute the gradient with respect to x too!"
   ]
  },
  {
   "cell_type": "code",
   "execution_count": 9,
   "metadata": {},
   "outputs": [],
   "source": [
    "def affine_transform(W, b, x):\n",
    "    v = W.data @ x.data + b.data\n",
    "    \n",
    "    output = Tensor(v, require_grad=any_require_grad([W, b, x]))\n",
    "    output.d = backward_affine_transform\n",
    "    output.backptr = [W, b, x]\n",
    "    \n",
    "    return output\n",
    "\n",
    "\n",
    "def backward_affine_transform(backptr, g):\n",
    "    # retrieve forward arguments\n",
    "    W, b, x = backptr\n",
    "    \n",
    "    # the gradient is accumulated in the arguments only if required\n",
    "    if W.require_grad:\n",
    "        W.accumulate_gradient(g.reshape(-1,1) @ np.transpose(x.data.reshape((-1,1))))\n",
    "    if b.require_grad:\n",
    "        b.accumulate_gradient(g)\n",
    "    if x.require_grad:\n",
    "        #print(W.data.shape, b.data.shape, x.data.shape, g.shape)\n",
    "        x.accumulate_gradient(g @ W.data ) "
   ]
  },
  {
   "cell_type": "code",
   "execution_count": 10,
   "metadata": {},
   "outputs": [],
   "source": [
    "# we use an underscore because this function does not manipulate tensors:\n",
    "# it is exactly the same as in the previous exercise\n",
    "def _softmax(x):\n",
    "    # TODO\n",
    "    b = max(x)\n",
    "    y = np.exp(x - b)\n",
    "    return y / y.sum()\n",
    "\n",
    "\n",
    "def nll(x, gold):\n",
    "    # TODO\n",
    "    v = - x.data[gold] + np.log(np.exp(x.data).sum()) \n",
    "    \n",
    "    output = Tensor(v, require_grad=x.require_grad)\n",
    "    output.d = backward_nll\n",
    "    output.backptr = [x]\n",
    "\n",
    "    return output\n",
    "\n",
    "\n",
    "def backward_nll(backptr, gold_label, g):\n",
    "    #TODO\n",
    "    x, = backptr\n",
    "    \n",
    "    if x.require_grad:\n",
    "        gx = _softmax(x.data)\n",
    "        \n",
    "        gx[gold_label]-= 1\n",
    "        x.accumulate_gradient(g * gx)\n",
    "        x.backward()"
   ]
  },
  {
   "cell_type": "markdown",
   "metadata": {},
   "source": [
    "# Module\n",
    "\n",
    "Neural networks or parts of neural networks will be stored in Modules.\n",
    "They implement method to retrieve all parameters of the network and subnetwork."
   ]
  },
  {
   "cell_type": "code",
   "execution_count": 11,
   "metadata": {},
   "outputs": [],
   "source": [
    "class Module:\n",
    "    def __init__(self):\n",
    "        raise NotImplemented(\"\")\n",
    "        \n",
    "    def parameters(self):\n",
    "        ret = []\n",
    "        for name in dir(self):\n",
    "            o = self.__getattribute__(name)\n",
    "\n",
    "            if type(o) is Parameter:\n",
    "                ret.append(o)\n",
    "            if isinstance(o, Module) or isinstance(o, ModuleList):\n",
    "                ret.extend(o.parameters())\n",
    "        return ret\n",
    "\n",
    "# if you want to store a list of Parameters or Module,\n",
    "# you must store them in a ModuleList instead of a python list,\n",
    "# in order to collect the parameters correctly\n",
    "class ModuleList(list):\n",
    "    def parameters(self):\n",
    "        ret = []\n",
    "        for m in self:\n",
    "            if type(m) is Parameter:\n",
    "                ret.append(m)\n",
    "            elif isinstance(m, Module) or isinstance(m, ModuleList):\n",
    "                ret.extend(m.parameters())\n",
    "        return ret"
   ]
  },
  {
   "cell_type": "markdown",
   "metadata": {},
   "source": [
    "# Initialization and optimization"
   ]
  },
  {
   "cell_type": "code",
   "execution_count": 12,
   "metadata": {},
   "outputs": [],
   "source": [
    "def zero_init(b):\n",
    "    b[:] = 0.\n",
    "\n",
    "def glorot_init(W):\n",
    "    dim_output, dim_input = W.shape\n",
    "    a = np.sqrt(6/(dim_output+dim_input))\n",
    "    W[:] = np.random.uniform(-a, a, W.shape)\n",
    "\n",
    "# Look at slides for the formula!\n",
    "def kaiming_init(W):\n",
    "    dim_output, dim_input = W.shape\n",
    "    a = np.sqrt(6/dim_input)\n",
    "    W[:] = np.random.uniform(-a, a, W.shape)"
   ]
  },
  {
   "cell_type": "code",
   "execution_count": 13,
   "metadata": {},
   "outputs": [],
   "source": [
    "# simple gradient descent optimizer\n",
    "class SGD:\n",
    "    def __init__(self, params, lr=0.1):\n",
    "        self.params = params\n",
    "        self.lr = lr\n",
    "        \n",
    "    def step(self):\n",
    "        for p in self.params:\n",
    "            p.data[:] = p.data - self.lr * p.gradient\n",
    "        \n",
    "    def zero_grad(self):\n",
    "        for p in self.params:\n",
    "            p.zero_grad()"
   ]
  },
  {
   "cell_type": "markdown",
   "metadata": {},
   "source": [
    "# Networks and training loop\n",
    "\n",
    "We first create a simple linear classifier, similar to the first lab exercise."
   ]
  },
  {
   "cell_type": "code",
   "execution_count": 14,
   "metadata": {},
   "outputs": [],
   "source": [
    "class LinearNetwork(Module):\n",
    "    def __init__(self, dim_input, dim_output):\n",
    "        # build the parameters\n",
    "        self.W = Parameter(np.ndarray((dim_output, dim_input)))\n",
    "        self.b = Parameter(np.ndarray((dim_output,)))\n",
    "        \n",
    "        self.init_parameters()\n",
    "        \n",
    "    def init_parameters(self):\n",
    "        # init parameters of the network (i.e W and b)\n",
    "        glorot_init(self.W.data)\n",
    "        zero_init(self.b.data)        \n",
    "        \n",
    "    def forward(self, x):\n",
    "        return  affine_transform(self.W, self.b, x)"
   ]
  },
  {
   "cell_type": "markdown",
   "metadata": {},
   "source": [
    "We will train several neural networks.\n",
    "Therefore, we encapsulate the training loop in a function.\n",
    "\n",
    "**warning**: you have to call optimizer.zero_grad() before each backward pass to reinitialize the gradient of the parameters!"
   ]
  },
  {
   "cell_type": "code",
   "execution_count": 15,
   "metadata": {},
   "outputs": [],
   "source": [
    "def training_loop(network, optimizer, train_data, dev_data, n_epochs=10):\n",
    "    # TODO!!!\n",
    "    cor_dev_list = []\n",
    "    cor_train_list = []\n",
    "\n",
    "    ### Computing the train accuracy before training\n",
    "    cor_train = 0\n",
    "    for i in range(len(train_data[0])):\n",
    "            \n",
    "            data = train_data[0][i]\n",
    "            label = train_data[1][i]\n",
    "            \n",
    "            tensor = network.forward(Tensor(data))    \n",
    "            if (np.argmax(tensor.data) == label):\n",
    "                cor_train += 1\n",
    "    accuracy_train = cor_train / len(train_data[0])\n",
    "            \n",
    "    cor_train_list.append(accuracy_train)            \n",
    "    print(\"Before training accuracy is : \" ,accuracy_train)\n",
    "\n",
    "    ### COMPUTING THE RESULTS OF THE NETWORK ON TRAINING DATA WITHOUT TRAINING\n",
    "    cor_dev = 0\n",
    "    for i in range(len(dev_data[0])):\n",
    "        data = dev_data[0][i]\n",
    "        label = dev_data[1][i]\n",
    "        tensor = network.forward(Tensor(data))\n",
    "        if (np.argmax(tensor.data) == label):\n",
    "            cor_dev += 1\n",
    "    accuracy_dev = cor_dev / len(dev_data[0])\n",
    "    cor_dev_list.append(accuracy_dev)\n",
    "    print(\"Accuracy on dev data before training is : %f\" %(accuracy_dev))\n",
    "    \n",
    "    print(\"-----------------------\")\n",
    "    for epoch in range(n_epochs):\n",
    "        cor_train = 0\n",
    "        for i in range(len(train_data[0])):\n",
    "            data = train_data[0][i]\n",
    "            label = train_data[1][i]                        \n",
    "            \n",
    "            tensor = network.forward(Tensor(data))\n",
    "            loss = nll(tensor, label)\n",
    "            \n",
    "            optimizer.zero_grad()\n",
    "            backward_nll(loss.backptr, label , g=1.)\n",
    "            optimizer.step()\n",
    "            \n",
    "            if(np.argmax(tensor.data) == label):\n",
    "                cor_train += 1\n",
    "    \n",
    "        # Evaluate the model on the dev set\n",
    "        cor_dev  = 0\n",
    "        for i in range(len(dev_data[0])):\n",
    "            data = dev_data[0][i]\n",
    "            label = dev_data[1][i]\n",
    "            tensor = network.forward(Tensor(data))\n",
    "            if (np.argmax(tensor.data) == label):\n",
    "                cor_dev += 1\n",
    "        \n",
    "        train_accuracy = cor_train/len(train_data[0])\n",
    "        dev_accuracy = cor_dev/len(dev_data[0])\n",
    "        cor_dev_list.append(dev_accuracy)\n",
    "        cor_train_list.append(train_accuracy)\n",
    "        print(\"For epoch = %d : Train accuracy is %f and Dev accuracy is %f\" %(epoch + 1, train_accuracy, \n",
    "                                                                               dev_accuracy))\n",
    "    print(\"----------------------------\")\n",
    "    # Evaluate the model on the test set\n",
    "    cor_test  = 0\n",
    "    for i in range(len(test_data[0])):\n",
    "        data = test_data[0][i]\n",
    "        label = test_data[1][i]\n",
    "        tensor = network.forward(Tensor(data))\n",
    "        if (np.argmax(tensor.data) == label):\n",
    "            cor_test += 1 \n",
    "    test_accuracy = cor_test/len(test_data[0])\n",
    "    print(\"Accuracy on test data is %f \"%(test_accuracy))\n",
    "    \n",
    "    plt.xlabel(\"Epochs\")\n",
    "    plt.ylabel(\"Accuracy\")\n",
    "    plt.title(\"Accuracy in terms of epochs\")\n",
    "    plt.plot([i for i in range(len(cor_dev_list))], cor_dev_list, label = \"dev accuracy\")\n",
    "    plt.plot([i for i in range(len(cor_train_list))], cor_train_list, label = \"train accuracy\")"
   ]
  },
  {
   "cell_type": "code",
   "execution_count": 16,
   "metadata": {},
   "outputs": [
    {
     "name": "stdout",
     "output_type": "stream",
     "text": [
      "Before training accuracy is :  0.0715\n",
      "Accuracy on dev data before training is : 0.073000\n",
      "-----------------------\n",
      "For epoch = 1 : Train accuracy is 0.893000 and Dev accuracy is 0.916100\n",
      "For epoch = 2 : Train accuracy is 0.911780 and Dev accuracy is 0.916000\n",
      "For epoch = 3 : Train accuracy is 0.915620 and Dev accuracy is 0.918200\n",
      "For epoch = 4 : Train accuracy is 0.917860 and Dev accuracy is 0.918300\n",
      "For epoch = 5 : Train accuracy is 0.919380 and Dev accuracy is 0.919800\n",
      "----------------------------\n",
      "Accuracy on test data is 0.916800 \n"
     ]
    },
    {
     "data": {
      "image/png": "[encoded data removed]",
      "text/plain": [
       "<Figure size 432x288 with 1 Axes>"
      ]
     },
     "metadata": {},
     "output_type": "display_data"
    }
   ],
   "source": [
    "dim_input = 28*28\n",
    "dim_output = 10\n",
    "\n",
    "network = LinearNetwork(dim_input, dim_output)\n",
    "optimizer = SGD(network.parameters(), 0.01)\n",
    "\n",
    "training_loop(network, optimizer, train_data, dev_data, n_epochs=5)"
   ]
  },
  {
   "cell_type": "markdown",
   "metadata": {},
   "source": [
    "After you finished the linear network, you can move to a deep network!\n",
    "The tanh argument can be used to switch between relu or tanh. Warning: use the correct initialization for a given activation!"
   ]
  },
  {
   "cell_type": "code",
   "execution_count": 17,
   "metadata": {},
   "outputs": [],
   "source": [
    "class DeepNetwork(Module):\n",
    "    def __init__(self, dim_input, dim_output, hidden_dim, n_layers, Tanh=False):\n",
    "        self.W = ModuleList()\n",
    "        self.b = ModuleList()\n",
    "        \n",
    "        # TODO\n",
    "        self.Tanh = Tanh\n",
    "        if self.Tanh:\n",
    "            self.activation_function = tanh\n",
    "        else:\n",
    "            self.activation_function = relu\n",
    "            print(5)\n",
    "        \n",
    "        for i in range(n_layers):\n",
    "            self.W.append(Parameter(np.ndarray((hidden_dim, dim_input))))\n",
    "            self.b.append(Parameter(np.ndarray((hidden_dim))))\n",
    "            \n",
    "        self.output_proj =  Parameter(np.ndarray((dim_output, hidden_dim))) # TODO# TODO\n",
    "        self.output_bias = Parameter(np.ndarray((dim_output)))# TODO\n",
    "        \n",
    "        self.init_parameters()\n",
    "        \n",
    "    def init_parameters(self):\n",
    "        glorot_init(self.output_proj.data)\n",
    "        zero_init(self.output_proj.data)\n",
    "        \n",
    "        for b in self.b:\n",
    "            zero_init(b.data)\n",
    "            \n",
    "        if self.Tanh:\n",
    "            for W in self.W:\n",
    "                glorot_init(W.data)\n",
    "        else: \n",
    "            for W in self.W:\n",
    "                kaiming_init(W.data)\n",
    "\n",
    "    def forward(self, x):\n",
    "        # TODO\n",
    "        z = x\n",
    "        for W, b in zip(self.W , self.b):\n",
    "            z = affine_transform(W, b, z)\n",
    "            z = self.activation_function(z)\n",
    "\n",
    "        z = affine_transform(self.output_proj, self.output_bias, z)\n",
    "        return z"
   ]
  },
  {
   "cell_type": "code",
   "execution_count": 18,
   "metadata": {},
   "outputs": [
    {
     "name": "stdout",
     "output_type": "stream",
     "text": [
      "5\n",
      "Before training accuracy is :  0.09976\n",
      "Accuracy on dev data before training is : 0.096100\n",
      "-----------------------\n",
      "For epoch = 1 : Train accuracy is 0.919160 and Dev accuracy is 0.957100\n",
      "For epoch = 2 : Train accuracy is 0.964800 and Dev accuracy is 0.967600\n",
      "For epoch = 3 : Train accuracy is 0.976920 and Dev accuracy is 0.971000\n",
      "For epoch = 4 : Train accuracy is 0.982640 and Dev accuracy is 0.973100\n",
      "For epoch = 5 : Train accuracy is 0.987380 and Dev accuracy is 0.975200\n",
      "For epoch = 6 : Train accuracy is 0.990700 and Dev accuracy is 0.974500\n",
      "For epoch = 7 : Train accuracy is 0.993480 and Dev accuracy is 0.976700\n",
      "For epoch = 8 : Train accuracy is 0.995140 and Dev accuracy is 0.976700\n",
      "For epoch = 9 : Train accuracy is 0.996320 and Dev accuracy is 0.976500\n",
      "For epoch = 10 : Train accuracy is 0.997640 and Dev accuracy is 0.976600\n",
      "----------------------------\n",
      "Accuracy on test data is 0.976200 \n"
     ]
    },
    {
     "data": {
      "image/png": "[encoded data removed]",
      "text/plain": [
       "<Figure size 432x288 with 1 Axes>"
      ]
     },
     "metadata": {},
     "output_type": "display_data"
    }
   ],
   "source": [
    "dim_input = 28*28\n",
    "dim_output = 10\n",
    "\n",
    "network = DeepNetwork(dim_input, dim_output, 100, 1, Tanh=False)\n",
    "optimizer = SGD(network.parameters(), 0.01)\n",
    "\n",
    "training_loop(network, optimizer, train_data, dev_data, n_epochs=10)"
   ]
  },
  {
   "cell_type": "code",
   "execution_count": null,
   "metadata": {},
   "outputs": [
    {
     "name": "stdout",
     "output_type": "stream",
     "text": [
      "Before training accuracy is :  0.09976\n",
      "Accuracy on dev data before training is : 0.096100\n",
      "-----------------------\n",
      "For epoch = 1 : Train accuracy is 0.915520 and Dev accuracy is 0.954800\n",
      "For epoch = 2 : Train accuracy is 0.960200 and Dev accuracy is 0.965400\n",
      "For epoch = 3 : Train accuracy is 0.972680 and Dev accuracy is 0.968600\n",
      "For epoch = 4 : Train accuracy is 0.980260 and Dev accuracy is 0.972100\n",
      "For epoch = 5 : Train accuracy is 0.985740 and Dev accuracy is 0.974200\n",
      "For epoch = 6 : Train accuracy is 0.989900 and Dev accuracy is 0.974000\n"
     ]
    }
   ],
   "source": [
    "dim_input = 28*28\n",
    "dim_output = 10\n",
    "\n",
    "network = DeepNetwork(dim_input, dim_output, 100, 1, Tanh=True)\n",
    "optimizer = SGD(network.parameters(), 0.01)\n",
    "\n",
    "training_loop(network, optimizer, train_data, dev_data, n_epochs=10)"
   ]
  },
  {
   "cell_type": "markdown",
   "metadata": {},
   "source": [
    "# Bonus\n",
    "\n",
    "You can try to implement a momentum SGD optimizer!\n",
    "Note that you have to keep track of the velocity for each parameter in the optimizer."
   ]
  },
  {
   "cell_type": "code",
   "execution_count": 39,
   "metadata": {},
   "outputs": [],
   "source": [
    "# simple gradient descent optimizer\n",
    "class SGD_optimizer:\n",
    "    def __init__(self, params, epsilon=0.1, mu=0.1):\n",
    "        self.params = params\n",
    "        self.epsilon = epsilon\n",
    "        self.mu = mu \n",
    "        \n",
    "        \n",
    "    def step(self):\n",
    "        for p in self.params:\n",
    "            p.gamma[:] = self.mu*p.gamma + p.gradient\n",
    "            p.data[:] = p.data - self.epsilon* p.gamma\n",
    "\n",
    "        \n",
    "    def zero_grad(self):\n",
    "        for p in self.params:\n",
    "            p.zero_grad()"
   ]
  },
  {
   "cell_type": "code",
   "execution_count": 42,
   "metadata": {},
   "outputs": [
    {
     "name": "stdout",
     "output_type": "stream",
     "text": [
      "Before training accuracy is :  0.09012\n",
      "Accuracy on dev data before training is : 0.091500\n",
      "-----------------------\n",
      "For epoch = 1 : Train accuracy is 0.920000 and Dev accuracy is 0.960200\n",
      "For epoch = 2 : Train accuracy is 0.961980 and Dev accuracy is 0.965300\n",
      "For epoch = 3 : Train accuracy is 0.971960 and Dev accuracy is 0.966300\n",
      "For epoch = 4 : Train accuracy is 0.979460 and Dev accuracy is 0.971600\n",
      "For epoch = 5 : Train accuracy is 0.983460 and Dev accuracy is 0.972200\n",
      "----------------------------\n",
      "Accuracy on test data is 0.972900 \n"
     ]
    },
    {
     "data": {
      "image/png": "[encoded data removed]",
      "text/plain": [
       "<Figure size 432x288 with 1 Axes>"
      ]
     },
     "metadata": {},
     "output_type": "display_data"
    }
   ],
   "source": [
    "dim_input = 28*28\n",
    "dim_output = 10\n",
    "\n",
    "network = DeepNetwork(dim_input, dim_output, 100, 1, Tanh=True)\n",
    "optimizer = SGD_optimizer(network.parameters(), 0.01, 0.5)\n",
    "\n",
    "training_loop(network, optimizer, train_data, dev_data, n_epochs=5)"
   ]
  }
 ],
 "metadata": {
  "kernelspec": {
   "display_name": "Python 3",
   "language": "python",
   "name": "python3"
  },
  "language_info": {
   "codemirror_mode": {
    "name": "ipython",
    "version": 3
   },
   "file_extension": ".py",
   "mimetype": "text/x-python",
   "name": "python",
   "nbconvert_exporter": "python",
   "pygments_lexer": "ipython3",
   "version": "3.6.5"
  }
 },
 "nbformat": 4,
 "nbformat_minor": 2
}
