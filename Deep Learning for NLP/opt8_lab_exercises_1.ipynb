{
 "cells": [
  {
   "cell_type": "markdown",
   "metadata": {},
   "source": [
    "# Practical classes\n",
    "#### Fait par Wafa Bouzouita et Dhiaeddine Youssfi\n",
    "\n",
    "All exercices will be in Python. It is important that you keep track of exercices and structure you code correctly (e.g. create funcions that you can re-use later)\n",
    "\n",
    "We will use Jupyter notebooks (formerly known as IPython). You can read the following courses for help:\n",
    "* Python and numpy: http://cs231n.github.io/python-numpy-tutorial/\n",
    "* Jupyter / IPython : http://cs231n.github.io/ipython-tutorial/\n",
    "\n",
    "To run this notebook:\n",
    "* create a directory somewhere on your filesystem\n",
    "* download the .ipynb from the course website: http://teaching.caio-corro.fr/2019-2020/OPT8/\n",
    "* move the .ipynb into the directory\n",
    "* from a terminal:\n",
    "    * cd /directory/path\n",
    "    * jupyter notebook\n",
    "\n",
    "Each group must send me their work by e-mail (one mail per group) before next course:\n",
    "* complete the code with comments\n",
    "* quick report on what's going one, experimental results etc.\n",
    "\n",
    "If you don't want to use the notebook, send me the python code + a PDF with plots and answers.\n",
    "\n",
    "\n",
    "# Neural network: first experiments with a linear model\n",
    "\n",
    "In this first lab exercise we will code a neural network using numpy, without a neural network library.\n",
    "Next week, the lab exercise will be to extend this program with hidden layers and activation functions.\n",
    "\n",
    "The task is digit recognition: the neural network has to predict which digit in $\\{0...9\\}$ is written in the input picture. We will use the [MNIST](http://yann.lecun.com/exdb/mnist/) dataset, a standard benchmark in machine learning.\n",
    "\n",
    "The model is a simple linear  classifier $o = \\operatorname{softmax}(Wx + b)$ where:\n",
    "* $x$ is an input image that is represented as a column vector, each value being the \"color\" of a pixel\n",
    "* $W$ and $b$ are the parameters of the classifier\n",
    "* $\\operatorname{softmax}$ transforms the output weight (logits) into probabilities\n",
    "* $o$ is column vector that contains the probability of each category\n",
    "\n",
    "We will train this model via stochastic gradient descent by minimizing the negative log-likelihood of the data:\n",
    "$$\n",
    "    \\hat{W}, \\hat{b} = \\operatorname{argmin}_{W, b} \\sum_{x, y} - \\log p(y | x)\n",
    "$$\n",
    "Although this is a linear model, it classifies raw data without any manual feature extraction step."
   ]
  },
  {
   "cell_type": "code",
   "execution_count": 2,
   "metadata": {
    "collapsed": true
   },
   "outputs": [],
   "source": [
    "# import libs that we will use\n",
    "import os\n",
    "import numpy as np\n",
    "import matplotlib.pyplot as plt\n",
    "import math\n",
    "\n",
    "# To load the data we will use the script of Gaetan Marceau Caron\n",
    "# You can download it from the course webiste and move it to the same directory that contains this ipynb file\n",
    "import dataset_loader\n",
    "\n",
    "%matplotlib inline"
   ]
  },
  {
   "cell_type": "markdown",
   "metadata": {},
   "source": [
    "# 1. Data"
   ]
  },
  {
   "cell_type": "code",
   "execution_count": 2,
   "metadata": {
    "collapsed": true
   },
   "outputs": [],
   "source": [
    "# Download mnist dataset \n",
    "if(\"mnist.pkl.gz\" not in os.listdir(\".\")):\n",
    "    !wget http://deeplearning.net/data/mnist/mnist.pkl.gz\n",
    "\n",
    "# if you have it somewhere else, you can comment the lines above\n",
    "# and overwrite the path below\n",
    "mnist_path = \"./mnist.pkl.gz\""
   ]
  },
  {
   "cell_type": "code",
   "execution_count": 3,
   "metadata": {
    "collapsed": true
   },
   "outputs": [],
   "source": [
    "# load the 3 splits\n",
    "train_data, dev_data, test_data = dataset_loader.load_mnist(mnist_path)"
   ]
  },
  {
   "cell_type": "markdown",
   "metadata": {},
   "source": [
    "Each dataset is a list with two elemets:\n",
    "* data[0] contains images\n",
    "* data[1] contains labels\n",
    "\n",
    "Data is stored as numpy.ndarray. You can use data[0][i] to retrieve image number i and data[1][i] to retrieve its label."
   ]
  },
  {
   "cell_type": "code",
   "execution_count": 4,
   "metadata": {},
   "outputs": [
    {
     "name": "stdout",
     "output_type": "stream",
     "text": [
      "<class 'list'>\n",
      "<class 'numpy.ndarray'>\n",
      "<class 'numpy.ndarray'>\n",
      "<class 'numpy.ndarray'>\n",
      "<class 'numpy.int64'>\n"
     ]
    }
   ],
   "source": [
    "print(type(train_data))\n",
    "print(type(train_data[0]))\n",
    "print(type(train_data[1]))\n",
    "print(type(train_data[0][0]))\n",
    "print(type(train_data[1][0]))"
   ]
  },
  {
   "cell_type": "code",
   "execution_count": 5,
   "metadata": {},
   "outputs": [
    {
     "name": "stdout",
     "output_type": "stream",
     "text": [
      "label: 3\n"
     ]
    },
    {
     "data": {
      "text/plain": [
       "<matplotlib.image.AxesImage at 0x7fd7aab44c18>"
      ]
     },
     "execution_count": 5,
     "metadata": {},
     "output_type": "execute_result"
    },
    {
     "data": {
      "image/png": "[encoded data removed]",
      "text/plain": [
       "<Figure size 432x288 with 1 Axes>"
      ]
     },
     "metadata": {},
     "output_type": "display_data"
    }
   ],
   "source": [
    "index = 900\n",
    "label = train_data[1][index]\n",
    "picture = train_data[0][index]\n",
    "print(\"label: %i\" % label)\n",
    "plt.imshow(picture.reshape(28,28), cmap='Greys')\n"
   ]
  },
  {
   "cell_type": "markdown",
   "metadata": {},
   "source": [
    "**Question:** What are the characteristics of training data? (number of samples, dimension of input, number of labels)\n",
    "\n",
    "The documentation of ndarray class is available here: https://docs.scipy.org/doc/numpy/reference/generated/numpy.ndarray.html"
   ]
  },
  {
   "cell_type": "code",
   "execution_count": 7,
   "metadata": {
    "collapsed": true
   },
   "outputs": [],
   "source": [
    "def getDimDataset(data):\n",
    "    \"\"\"\n",
    "    input : our data\n",
    "    output:\n",
    "    n_training : number of samples\n",
    "    n_feature  : dimension of input\n",
    "    n_label    : number of labels\n",
    "     \n",
    "    \"\"\"\n",
    "    n_training, n_feature = train_data[0].shape\n",
    "    n_label = len(set(data[1]))\n",
    "    \n",
    "    return n_training, n_feature, n_label"
   ]
  },
  {
   "cell_type": "code",
   "execution_count": 8,
   "metadata": {},
   "outputs": [
    {
     "name": "stdout",
     "output_type": "stream",
     "text": [
      "Number of samples  :  50000\n",
      "Dimension of input :  784\n",
      "Number of labels   :  10\n"
     ]
    }
   ],
   "source": [
    "print(\"Number of samples  : \" ,getDimDataset(train_data)[0] )\n",
    "print(\"Dimension of input : \" ,getDimDataset(train_data)[1] )\n",
    "print(\"Number of labels   : \" ,getDimDataset(train_data)[2] )"
   ]
  },
  {
   "cell_type": "markdown",
   "metadata": {},
   "source": [
    "# 1. Building functions\n",
    "\n",
    "We now need to build functions that are required for the neural network.\n",
    "$$\n",
    "    o = \\operatorname{softmax}(Wx + b) \\\\\n",
    "    L(x, y) = -\\log p(y | x) = -\\log o[y]\n",
    "$$\n",
    "\n",
    "Note that in numpy, operator @ is used for matrix multiplication while * is used for element-wise multiplication.\n",
    "The documentation for linear algebra in numpy is available here: https://docs.scipy.org/doc/numpy/reference/routines.linalg.html\n",
    "\n",
    "The first operation is the affine transformation $v = Wx + b$.\n",
    "To compute the gradient, it is often convenient to write the forward pass as $v[i] = b[i] + \\sum_j W[i, j] x[j]$."
   ]
  },
  {
   "cell_type": "code",
   "execution_count": 9,
   "metadata": {
    "collapsed": true
   },
   "outputs": [],
   "source": [
    "# Input:\n",
    "# - W: projection matrix\n",
    "# - b: bias\n",
    "# - x: input features\n",
    "# Output:\n",
    "# - vector\n",
    "def affine_transform(W, b, x):\n",
    "    v = W @ x + b \n",
    "    return  v\n",
    "\n",
    "# Input:\n",
    "# - W: projection matrix\n",
    "# - b: bias\n",
    "# - x: input features\n",
    "# - g: incoming gradient\n",
    "# Output:\n",
    "# - g_W: gradient wrt W\n",
    "# - g_b: gradient wrt b\n",
    "def backward_affine_transform(W, b, x, g):\n",
    "    g_W =  g.reshape(-1,1) @ np.transpose(x.reshape((-1,1)))\n",
    "    g_b =  g\n",
    "    return g_W, g_b"
   ]
  },
  {
   "cell_type": "markdown",
   "metadata": {},
   "source": [
    "The next cell is a (too simple) test of affine_transform and backward_affine_transform.\n",
    "It should run without error if your implementation is correct."
   ]
  },
  {
   "cell_type": "code",
   "execution_count": 10,
   "metadata": {
    "collapsed": true
   },
   "outputs": [],
   "source": [
    "W = np.asarray([[ 0.63024213,  0.53679375, -0.92079597],\n",
    " [-0.1155045,   0.62780356, -0.67961305],\n",
    " [ 0.08465286, -0.06561815, -0.39778322],\n",
    " [ 0.8242268,   0.58907262, -0.52208052],\n",
    " [-0.43894227, -0.56993247,  0.09520727]])\n",
    "b = np.asarray([ 0.42706842,  0.69636598, -0.85611933, -0.08682553,  0.83160079])\n",
    "x = np.asarray([-0.32809223, -0.54751413,  0.81949319])\n",
    "\n",
    "o_gold = np.asarray([-0.82819732, -0.16640748, -1.17394705, -1.10761496,  1.36568213])\n",
    "g = np.asarray([-0.08938868,  0.44083873, -0.2260743,  -0.96196726, -0.53428805])\n",
    "g_W_gold = np.asarray([[ 0.02932773,  0.04894156, -0.07325341],\n",
    " [-0.14463576, -0.24136543,  0.36126434],\n",
    " [ 0.07417322,  0.12377887, -0.18526635],\n",
    " [ 0.31561399,  0.52669067, -0.78832562],\n",
    " [ 0.17529576,  0.29253025, -0.43784542]])\n",
    "g_b_gold = np.asarray([-0.08938868,  0.44083873, -0.2260743,  -0.96196726, -0.53428805])\n",
    "\n",
    "# quick test of the forward pass\n",
    "o = affine_transform(W, b, x)\n",
    "if o.shape != o_gold.shape:\n",
    "    raise RuntimeError(\"Unexpected output dimension: got %s, expected %s\" % (str(o.shape), str(o_gold.shape)))\n",
    "if not np.allclose(o, o_gold):\n",
    "    raise RuntimeError(\"Output of the affine_transform function is incorrect\")\n",
    "    \n",
    "# quick test if the backward pass\n",
    "g_W, g_b = backward_affine_transform(W, b, x, g)\n",
    "if g_W.shape != g_W_gold.shape:\n",
    "        raise RuntimeError(\"Unexpected gradient dimension for W: got %s, expected %s\" % (str(g_W.shape), str(g_W_gold.shape)))\n",
    "if g_b.shape != g_b_gold.shape:\n",
    "        raise RuntimeError(\"Unexpected gradient dimension for b: got %s, expected %s\" % (str(g_b.shape), str(g_b_gold.shape)))\n",
    "if not np.allclose(g_W, g_W_gold):\n",
    "    raise RuntimeError(\"Gradient of W is incorrect\")\n",
    "if not np.allclose(g_b, g_b_gold):\n",
    "    raise RuntimeError(\"Gradient of b is incorrect\")"
   ]
  },
  {
   "cell_type": "markdown",
   "metadata": {},
   "source": [
    "The softmax function:\n",
    "$$\n",
    "     o = \\operatorname{softmax}(w)\n",
    "$$\n",
    "where $w$ is a vector of logits in $\\mathbb R$ and $o$ a vector of probabilities such that:\n",
    "$$\n",
    "    o[i] = \\frac{\\exp(w[i])}{\\sum_j \\exp(w[j])}\n",
    "$$\n",
    "We do not need to implement the backward for this experiment."
   ]
  },
  {
   "cell_type": "code",
   "execution_count": 11,
   "metadata": {
    "collapsed": true
   },
   "outputs": [],
   "source": [
    "# Input:\n",
    "# - x: vector of logits\n",
    "# Output\n",
    "# - vector of probabilities\n",
    "def softmax(x):\n",
    "    b = np.max(x)\n",
    "    y = np.exp(x-b)\n",
    "    return(y/y.sum())"
   ]
  },
  {
   "cell_type": "markdown",
   "metadata": {},
   "source": [
    "**WARNING:** is your implementation numerically stable?\n",
    "\n",
    "The $\\exp$ function results in computations that overflows (i.e. results in numbers that cannot be represented with floating point numbers).\n",
    "Therefore, it is always convenient to use the following trick to improve stability: https://timvieira.github.io/blog/post/2014/02/11/exp-normalize-trick/"
   ]
  },
  {
   "cell_type": "code",
   "execution_count": 12,
   "metadata": {},
   "outputs": [
    {
     "name": "stdout",
     "output_type": "stream",
     "text": [
      "[1. 0. 0.]\n"
     ]
    }
   ],
   "source": [
    "# Example for testing the numerical stability of softmax\n",
    "# It should return [1., 0. ,0.], not [nan, 0., 0.]\n",
    "z = [1000000,1,100]\n",
    "print(softmax(z))"
   ]
  },
  {
   "cell_type": "markdown",
   "metadata": {},
   "source": [
    "**Question**: from the result of the cell above, what can you say about the softmax output, even when it is stable?\n",
    "\n",
    "There is zero in the softmax output, otherwise exponential function results is not supposed to give a zero value. Then, the exp-normalize trick that w applied ameliorated only the stability but the results are not perfect."
   ]
  },
  {
   "cell_type": "code",
   "execution_count": 13,
   "metadata": {
    "collapsed": true
   },
   "outputs": [],
   "source": [
    "# Just too simple test for the softmax function\n",
    "x = np.asarray([0.92424884, -0.92381088, -0.74666024, -0.87705478, -0.54797015])\n",
    "y_gold = np.asarray([0.57467369, 0.09053556, 0.10808233, 0.09486917, 0.13183925])\n",
    "y = softmax(x)\n",
    "if not np.allclose(y, y_gold):\n",
    "    raise RuntimeError(\"Output of the softmax function is incorrect\")"
   ]
  },
  {
   "cell_type": "markdown",
   "metadata": {},
   "source": [
    "Finally, we build the loss function and its gradient for training the network.\n",
    "\n",
    "The loss function is the negative log-likelihood defined as:\n",
    "$$\n",
    "    \\mathcal L(x, gold) = -\\log \\frac{\\exp(x[gold])}{\\sum_j \\exp(x[j])} = -x[gold] + \\log \\sum_j \\exp(x[j])\n",
    "$$\n",
    "This function is also called the cross-entropy loss (in Pytorch, different names are used dependending if the inputs are probabilities or raw logits).\n",
    "\n",
    "Similarly to the softmax, we have to rely on the log-sum-exp trick to stabilize the computation: https://timvieira.github.io/blog/post/2014/02/11/exp-normalize-trick/"
   ]
  },
  {
   "cell_type": "code",
   "execution_count": 14,
   "metadata": {
    "collapsed": true
   },
   "outputs": [],
   "source": [
    "# Input:\n",
    "# - x: vector of logits\n",
    "# - gold: index of the gold class\n",
    "# Output:\n",
    "# - scalare equal to -log(softmax(x)[gold])\n",
    "def nll(x, gold):\n",
    "    b = max(x)\n",
    "    y = np.sum(np.exp(x-b))\n",
    "    return(-x[gold]+b + np.log(y))\n",
    "\n",
    "# Input:\n",
    "# - x: vector of logits\n",
    "# - gold: index of the gold class\n",
    "# - gradient (scalar)\n",
    "# Output:\n",
    "# - gradient wrt x\n",
    "def backward_nll(x, gold, g):\n",
    "    vect = np.zeros(len(x))\n",
    "    vect[gold] = -1\n",
    "    g_x = vect + softmax(x)\n",
    "    return g_x * g"
   ]
  },
  {
   "cell_type": "code",
   "execution_count": 15,
   "metadata": {
    "collapsed": true
   },
   "outputs": [],
   "source": [
    "# test\n",
    "x = np.asarray([-0.13590009, -0.83649656,  0.03130881,  0.42559402,  0.08488182])\n",
    "y_gold = 1.5695014420179738\n",
    "g_gold = np.asarray([ 0.17609875,  0.08739591, -0.79185107,  0.30875221,  0.2196042 ])\n",
    "\n",
    "y = nll(x, 2)\n",
    "g = backward_nll(x, 2, 1.)\n",
    "\n",
    "if not np.allclose(y, y_gold):\n",
    "    raise RuntimeError(\"Output is incorrect\")\n",
    "\n",
    "if g.shape != g_gold.shape:\n",
    "        raise RuntimeError(\"Unexpected gradient dimension: got %s, expected %s\" % (str(g.shape), str(g_gold.shape)))\n",
    "if not np.allclose(g, g_gold):\n",
    "    raise RuntimeError(\"Gradient is incorrect\")"
   ]
  },
  {
   "cell_type": "markdown",
   "metadata": {},
   "source": [
    "The following code test the implementation of the gradient using finite-difference approximation, see: https://timvieira.github.io/blog/post/2017/04/21/how-to-test-gradient-implementations/\n",
    "\n",
    "Your implementation should pass this test."
   ]
  },
  {
   "cell_type": "code",
   "execution_count": 16,
   "metadata": {
    "collapsed": true
   },
   "outputs": [],
   "source": [
    "# this is python re-implementation of the test from the Dynet library\n",
    "# https://github.com/clab/dynet/blob/master/dynet/grad-check.cc\n",
    "\n",
    "def is_almost_equal(grad, computed_grad):\n",
    "    #print(grad, computed_grad)\n",
    "    f = abs(grad - computed_grad)\n",
    "    m = max(abs(grad), abs(computed_grad))\n",
    "\n",
    "    if f > 0.01 and m > 0.:\n",
    "        f /= m\n",
    "\n",
    "    if f > 0.01 or math.isnan(f):\n",
    "        return False\n",
    "    else:\n",
    "        return True\n",
    "\n",
    "def check_gradient(function, weights, true_grad, alpha = 1e-3):\n",
    "    # because input can be of any dimension,\n",
    "    # we build a view of the underlying data with the .shape(-1) method\n",
    "    # then we can access any element of the tensor as a elements of a list\n",
    "    # with a single dimension\n",
    "    weights_view = weights.reshape(-1)\n",
    "    true_grad_view = true_grad.reshape(-1)\n",
    "    for i in range(weights_view.shape[0]):\n",
    "        old = weights_view[i]\n",
    "\n",
    "        weights_view[i] = old - alpha\n",
    "        value_left = function(weights).reshape(-1)\n",
    "\n",
    "        weights_view[i] = old + alpha\n",
    "        value_right = function(weights).reshape(-1)\n",
    "\n",
    "        weights_view[i] = old\n",
    "        grad = (value_right - value_left) / (2. * alpha)\n",
    "\n",
    "        if not is_almost_equal(grad, true_grad_view[i]):\n",
    "            return False\n",
    "\n",
    "        return True"
   ]
  },
  {
   "cell_type": "code",
   "execution_count": 17,
   "metadata": {},
   "outputs": [
    {
     "name": "stdout",
     "output_type": "stream",
     "text": [
      "True\n",
      "True\n",
      "True\n"
     ]
    }
   ],
   "source": [
    "# Test the affine transformation\n",
    "\n",
    "x = np.random.uniform(-1, 1, (5,))\n",
    "W = np.random.uniform(-1, 1, (3, 5))\n",
    "b = np.random.uniform(-1, 1, (3,))\n",
    "\n",
    "for i in range(3):\n",
    "    y = affine_transform(W, b, x)\n",
    "    g = np.zeros_like(y)\n",
    "    g[i] = 1.\n",
    "    g_W, _ = backward_affine_transform(W, b, x, g)\n",
    "    print(check_gradient(lambda W: affine_transform(W, b, x)[i], W, g_W))"
   ]
  },
  {
   "cell_type": "code",
   "execution_count": 18,
   "metadata": {},
   "outputs": [
    {
     "name": "stdout",
     "output_type": "stream",
     "text": [
      "True\n",
      "True\n",
      "True\n",
      "True\n",
      "True\n"
     ]
    }
   ],
   "source": [
    "# test the negative likelihood loss\n",
    "\n",
    "x = np.random.uniform(-1, 1, (5,))\n",
    "\n",
    "for gold in range(5):\n",
    "    y = nll(x, gold)\n",
    "    g_y = backward_nll(x, gold, 1.)\n",
    "\n",
    "    print(check_gradient(lambda x: nll(x, gold), x, g_y))"
   ]
  },
  {
   "cell_type": "markdown",
   "metadata": {},
   "source": [
    "# 2. Parameter initialization\n",
    "\n",
    "We are now going to build the function that will be used to initialize the parameters of the neural network before training.\n",
    "Note that for parameter initialization you must use **in-place** operations:"
   ]
  },
  {
   "cell_type": "code",
   "execution_count": 19,
   "metadata": {
    "collapsed": true
   },
   "outputs": [],
   "source": [
    "# create a random ndarray\n",
    "a = np.random.uniform(-1, 1, (5,))\n",
    "\n",
    "# this does not change the data of the ndarray created above!\n",
    "# it creates a new ndarray and replace the reference stored in a\n",
    "a = np.zeros((5, ))\n",
    "# this will change the underlying data of the ndarray that a points to\n",
    "a[:] = 0\n",
    "\n",
    "# similarly, this creates a new array and change the object pointed by a\n",
    "a = a + 1\n",
    "\n",
    "# while this change the underlying data of a\n",
    "a += 1"
   ]
  },
  {
   "cell_type": "markdown",
   "metadata": {},
   "source": [
    "For an affine transformation, it is common to:\n",
    "* initialize the bias to 0\n",
    "* initialize the projection matrix with Glorot initialization (also known as Xavier initialization)\n",
    "\n",
    "The formula for Glorot initialization can be found in equation 16 (page 5) of the original paper: http://proceedings.mlr.press/v9/glorot10a/glorot10a.pdf"
   ]
  },
  {
   "cell_type": "code",
   "execution_count": 20,
   "metadata": {
    "collapsed": true
   },
   "outputs": [],
   "source": [
    "def zero_init(b):\n",
    "    b[:] = 0.\n",
    "\n",
    "def glorot_init(W):\n",
    "    dim_output, dim_input = W.shape\n",
    "    W = np.random.uniform(-np.sqrt(6/dim_output+dim_input) ,np.sqrt(6/dim_output+dim_input), W.shape)\n",
    "glorot_init(W)"
   ]
  },
  {
   "cell_type": "markdown",
   "metadata": {},
   "source": [
    "# 3. Building and training the neural network\n",
    "\n",
    "In our simple example, creating the neural network is simply instantiating the parameters $W$ and $b$.\n",
    "They must be ndarray object with the correct dimensions."
   ]
  },
  {
   "cell_type": "code",
   "execution_count": 21,
   "metadata": {
    "collapsed": true
   },
   "outputs": [],
   "source": [
    "def create_parameters(dim_input, dim_output):\n",
    "    W = np.zeros((dim_output, dim_input))\n",
    "    b = np.zeros(dim_output)\n",
    "    \n",
    "    return W, b"
   ]
  },
  {
   "cell_type": "markdown",
   "metadata": {},
   "source": [
    "The recent success of deep learning is (partly) due to the ability to train very big neural networks.\n",
    "However, researchers became interested in building small neural networks to improve computational efficiency and memory usage.\n",
    "Therefore, we often want to compare neural networks by their number of parameters, i.e. the size of the memory required to store the parameters."
   ]
  },
  {
   "cell_type": "code",
   "execution_count": 22,
   "metadata": {
    "collapsed": true
   },
   "outputs": [],
   "source": [
    "def print_n_parameters(W, b):\n",
    "    dim_output, dim_input = W.shape\n",
    "    n = dim_output * dim_input + dim_output \n",
    "    print(\"W dimensions: \" + str(W.shape))\n",
    "    print(\"b dimensions: \" + str(b.shape))\n",
    "    print(\"Number of parameters: %i\" % (n))"
   ]
  },
  {
   "cell_type": "markdown",
   "metadata": {},
   "source": [
    "We can now create the neural network and print its number of parameters:"
   ]
  },
  {
   "cell_type": "code",
   "execution_count": 23,
   "metadata": {},
   "outputs": [
    {
     "name": "stdout",
     "output_type": "stream",
     "text": [
      "W dimensions: (10, 784)\n",
      "b dimensions: (10,)\n",
      "Number of parameters: 7850\n"
     ]
    }
   ],
   "source": [
    "dim_input = 784\n",
    "dim_output = 10\n",
    "W, b = create_parameters(dim_input, dim_output)\n",
    "print_n_parameters(W, b)"
   ]
  },
  {
   "cell_type": "code",
   "execution_count": 24,
   "metadata": {
    "collapsed": true
   },
   "outputs": [],
   "source": [
    "def update(eta, W, b, grad_w, grad_b):\n",
    "    \"\"\"\n",
    "        Update the parameters with an update rule\n",
    "        :param eta: the step-size\n",
    "        :param W: the weights\n",
    "        :param b: the bias\n",
    "        :param grad_w: the gradient w.r.t. the weights\n",
    "        :param grad_b: the gradient w.r.t. the bias\n",
    "        :type eta: float\n",
    "        :type W: ndarray\n",
    "        :type b: ndarray\n",
    "        :type grad_w: ndarray\n",
    "        :type grad_b: ndarray\n",
    "        :return: the updated parameters\n",
    "        :rtype: ndarray, ndarray\n",
    "    \"\"\"\n",
    "\n",
    "    W -= eta * grad_w\n",
    "    b -= eta * grad_b\n",
    "\n",
    "    return W,b"
   ]
  },
  {
   "cell_type": "code",
   "execution_count": 25,
   "metadata": {
    "collapsed": true
   },
   "outputs": [],
   "source": [
    "def Evaluate(W,b,data):\n",
    "    n=0\n",
    "    for j in range(len(data[0])):\n",
    "        Z = affine_transform(W,b,data[0][j])\n",
    "        out = softmax(Z)\n",
    "        y_estimate = out.argmax()\n",
    "        if y_estimate==data[1][j]:\n",
    "            n = n+1\n",
    "    return(n/len(data[0]))\n"
   ]
  },
  {
   "cell_type": "markdown",
   "metadata": {},
   "source": [
    "Finally, the training loop!\n",
    "\n",
    "The training loop should be structured as follows:\n",
    "* we do **epochs** over the data, i.e. one epoch is one loop over the dataset\n",
    "* at each epoch, we first loop over the data and update the network parameters with respect to the loss gradient\n",
    "* at the end of each epoch, we evaluate the network on the dev dataset\n",
    "* after all epochs are done, we evaluate our network on the test dataset and compare its performance with the performance on dev\n",
    "\n",
    "During training, it is useful to print the following information:\n",
    "* the mean loss over the epoch: it should be decreasing!\n",
    "* the accuracy on the dev set: it should be increasing!\n",
    "* the accuracy on the train set: it shoud be increasing!\n",
    "\n",
    "If you observe a decreasing loss (+increasing accuracy on test data) but decreasing accuracy on dev data, your network is overfitting!\n",
    "\n",
    "Once you have build **and tested** this a simple training loop, you should introduce the following improvements:\n",
    "* instead of evaluating on dev after each loop on the training data, you can also evaluate on dev n times per epoch\n",
    "* shuffle the data before each epoch\n",
    "* instead of memorizing the parameters of the last epoch only, you should have a copy of the parameters that produced the best value on dev data during training and evaluate on test with those instead of the parameters after the last epoch\n",
    "* learning rate decay: if you do not observe improvement on dev, you can try to reduce the step size\n",
    "\n",
    "After you conducted (successful?) experiments, you should write a report with results."
   ]
  },
  {
   "cell_type": "code",
   "execution_count": 26,
   "metadata": {
    "collapsed": true
   },
   "outputs": [],
   "source": [
    "import math,time\n",
    "from IPython.display import clear_output\n",
    "#from aux import *\n",
    "# before training, we initialize the parameters of the network\n",
    "\n",
    "\n",
    "n_epochs = 100 # number of epochs\n",
    "step = 0.0001 # step size for gradient updates\n",
    "\n",
    "def training(step, n_epoch, verbose = False): \n",
    "    \n",
    "    # Data structures for plotting\n",
    "    g_i = []\n",
    "    m_loss=[]\n",
    "    train_acc=[]\n",
    "    dev_acc=[]\n",
    "    test_acc=[] \n",
    "    \n",
    "    bestdev = - math.inf\n",
    "\n",
    "    n_training, n_feature, n_label = getDimDataset(train_data)\n",
    "    loss = np.zeros(n_label)\n",
    "\n",
    "    cumul_time = 0.\n",
    "    \n",
    "    # create parameters \n",
    "    W, b = create_parameters(n_feature, n_label)\n",
    "    \n",
    "    # Initialize the model parameters\n",
    "    zero_init(b)\n",
    "    glorot_init(W)\n",
    "\n",
    "    for i in range(n_epoch):\n",
    "        mean_loss = 0\n",
    "        for j in range(n_training):\n",
    "\n",
    "            prev_time = time.clock()\n",
    "            ### Forward propagation\n",
    "            Z = affine_transform(W,b,train_data[0][j])\n",
    "            \n",
    "            ### Compute the loss function\n",
    "            loss = nll(Z, train_data[1][j])\n",
    "            \n",
    "            ### Compute the mean of the loss function\n",
    "            mean_loss = mean_loss + loss\n",
    "            \n",
    "            ### Compute the gradient of loss funtion wrt Z!!!!!!!!!!!\n",
    "            gout = backward_nll(Z, train_data[1][j], 1.)\n",
    "            \n",
    "            ### Compute the gradient w.r.t. parameters\n",
    "            grad_w,grad_b =  backward_affine_transform(W, b, train_data[0][j], gout)\n",
    "\n",
    "            ### Update the parameters\n",
    "            W,b = update(step, W, b, grad_w, grad_b)\n",
    "            \n",
    "            curr_time = time.clock()\n",
    "            cumul_time += curr_time - prev_time\n",
    "            \n",
    "        mean_loss /= n_training\n",
    "        \n",
    "        ### Compute the train accuracy, validation accuracy and test accuracy\n",
    "        train_accuracy = Evaluate(W,b,train_data)\n",
    "        dev_accuracy =  Evaluate(W,b,dev_data)\n",
    "        test_accuracy =  Evaluate(W,b,test_data)\n",
    "        \n",
    "        if dev_accuracy  > bestdev :\n",
    "            W_opt , b_opt = W, b\n",
    "            bestdev=dev_accuracy\n",
    "        \n",
    "    \n",
    "        result_line = str(i) + \" \" + \"the mean loss:\" + str(mean_loss) + \" the accuracy on the dev set : \" + str(dev_accuracy) + \" the accuracy on the train set :\" + str(train_accuracy) + \" the step size : \" + str(step)\n",
    "        if verbose:\n",
    "            print(result_line)\n",
    "            \n",
    "        g_i.append(i)\n",
    "        m_loss.append(mean_loss)\n",
    "        train_acc.append(train_accuracy)\n",
    "        dev_acc.append(dev_accuracy)\n",
    "        test_acc.append(test_accuracy)\n",
    "        \n",
    "    return g_i, m_loss, train_acc, dev_acc, test_acc\n"
   ]
  },
  {
   "cell_type": "code",
   "execution_count": 27,
   "metadata": {},
   "outputs": [
    {
     "name": "stdout",
     "output_type": "stream",
     "text": [
      "0 the mean loss:1.2317853847457767 the accuracy on the dev set : 0.8571 the accuracy on the train set :0.83886 the step size : 0.0001\n",
      "1 the mean loss:0.6982180834714998 the accuracy on the dev set : 0.8769 the accuracy on the train set :0.85938 the step size : 0.0001\n",
      "2 the mean loss:0.5768263782583402 the accuracy on the dev set : 0.8848 the accuracy on the train set :0.86934 the step size : 0.0001\n",
      "3 the mean loss:0.5182247621809188 the accuracy on the dev set : 0.8907 the accuracy on the train set :0.8758 the step size : 0.0001\n",
      "4 the mean loss:0.4823515463005867 the accuracy on the dev set : 0.8939 the accuracy on the train set :0.88062 the step size : 0.0001\n",
      "5 the mean loss:0.4575829091507978 the accuracy on the dev set : 0.8985 the accuracy on the train set :0.88402 the step size : 0.0001\n",
      "6 the mean loss:0.43918020853661444 the accuracy on the dev set : 0.9011 the accuracy on the train set :0.88694 the step size : 0.0001\n",
      "7 the mean loss:0.4248147031591546 the accuracy on the dev set : 0.9028 the accuracy on the train set :0.88942 the step size : 0.0001\n",
      "8 the mean loss:0.4131949499997445 the accuracy on the dev set : 0.9045 the accuracy on the train set :0.89154 the step size : 0.0001\n",
      "9 the mean loss:0.4035410588508602 the accuracy on the dev set : 0.9056 the accuracy on the train set :0.89346 the step size : 0.0001\n",
      "10 the mean loss:0.3953511819645575 the accuracy on the dev set : 0.9057 the accuracy on the train set :0.89468 the step size : 0.0001\n",
      "11 the mean loss:0.38828608746209314 the accuracy on the dev set : 0.9056 the accuracy on the train set :0.89602 the step size : 0.0001\n",
      "12 the mean loss:0.3821072652040429 the accuracy on the dev set : 0.9076 the accuracy on the train set :0.89722 the step size : 0.0001\n",
      "13 the mean loss:0.37664153836580955 the accuracy on the dev set : 0.9081 the accuracy on the train set :0.89828 the step size : 0.0001\n",
      "14 the mean loss:0.3717597501206402 the accuracy on the dev set : 0.9086 the accuracy on the train set :0.8994 the step size : 0.0001\n",
      "15 the mean loss:0.36736336295992617 the accuracy on the dev set : 0.9094 the accuracy on the train set :0.9002 the step size : 0.0001\n",
      "16 the mean loss:0.36337572222187126 the accuracy on the dev set : 0.9101 the accuracy on the train set :0.90106 the step size : 0.0001\n",
      "17 the mean loss:0.3597361814312936 the accuracy on the dev set : 0.911 the accuracy on the train set :0.90172 the step size : 0.0001\n",
      "18 the mean loss:0.3563960449314603 the accuracy on the dev set : 0.9116 the accuracy on the train set :0.90236 the step size : 0.0001\n",
      "19 the mean loss:0.35331569942213165 the accuracy on the dev set : 0.912 the accuracy on the train set :0.90302 the step size : 0.0001\n",
      "20 the mean loss:0.3504625438652768 the accuracy on the dev set : 0.9125 the accuracy on the train set :0.9037 the step size : 0.0001\n",
      "21 the mean loss:0.3478094680078015 the accuracy on the dev set : 0.9136 the accuracy on the train set :0.90436 the step size : 0.0001\n",
      "22 the mean loss:0.34533371571387317 the accuracy on the dev set : 0.9144 the accuracy on the train set :0.90488 the step size : 0.0001\n",
      "23 the mean loss:0.3430160232168574 the accuracy on the dev set : 0.9146 the accuracy on the train set :0.90558 the step size : 0.0001\n",
      "24 the mean loss:0.340839957063267 the accuracy on the dev set : 0.9147 the accuracy on the train set :0.90636 the step size : 0.0001\n",
      "25 the mean loss:0.33879139929934093 the accuracy on the dev set : 0.9148 the accuracy on the train set :0.90694 the step size : 0.0001\n",
      "26 the mean loss:0.33685814272029535 the accuracy on the dev set : 0.9151 the accuracy on the train set :0.9073 the step size : 0.0001\n",
      "27 the mean loss:0.33502956942439216 the accuracy on the dev set : 0.9154 the accuracy on the train set :0.90784 the step size : 0.0001\n",
      "28 the mean loss:0.33329639314578374 the accuracy on the dev set : 0.9159 the accuracy on the train set :0.9081 the step size : 0.0001\n",
      "29 the mean loss:0.33165045093497514 the accuracy on the dev set : 0.9159 the accuracy on the train set :0.90848 the step size : 0.0001\n",
      "30 the mean loss:0.3300845333949667 the accuracy on the dev set : 0.9162 the accuracy on the train set :0.90878 the step size : 0.0001\n",
      "31 the mean loss:0.3285922453146284 the accuracy on the dev set : 0.9163 the accuracy on the train set :0.90898 the step size : 0.0001\n",
      "32 the mean loss:0.3271678904691865 the accuracy on the dev set : 0.9167 the accuracy on the train set :0.90934 the step size : 0.0001\n",
      "33 the mean loss:0.3258063757853684 the accuracy on the dev set : 0.9168 the accuracy on the train set :0.90968 the step size : 0.0001\n",
      "34 the mean loss:0.3245031311369339 the accuracy on the dev set : 0.9169 the accuracy on the train set :0.9099 the step size : 0.0001\n",
      "35 the mean loss:0.3232540418427633 the accuracy on the dev set : 0.9168 the accuracy on the train set :0.91038 the step size : 0.0001\n",
      "36 the mean loss:0.32205539155477697 the accuracy on the dev set : 0.917 the accuracy on the train set :0.9108 the step size : 0.0001\n",
      "37 the mean loss:0.32090381369521676 the accuracy on the dev set : 0.9171 the accuracy on the train set :0.91116 the step size : 0.0001\n",
      "38 the mean loss:0.3197962499690457 the accuracy on the dev set : 0.9173 the accuracy on the train set :0.9114 the step size : 0.0001\n",
      "39 the mean loss:0.3187299147628949 the accuracy on the dev set : 0.9176 the accuracy on the train set :0.91162 the step size : 0.0001\n",
      "40 the mean loss:0.31770226446653016 the accuracy on the dev set : 0.9178 the accuracy on the train set :0.91204 the step size : 0.0001\n",
      "41 the mean loss:0.31671097093053474 the accuracy on the dev set : 0.9178 the accuracy on the train set :0.91244 the step size : 0.0001\n",
      "42 the mean loss:0.3157538984154182 the accuracy on the dev set : 0.9178 the accuracy on the train set :0.9126 the step size : 0.0001\n",
      "43 the mean loss:0.3148290835005398 the accuracy on the dev set : 0.9177 the accuracy on the train set :0.91274 the step size : 0.0001\n",
      "44 the mean loss:0.3139347175127375 the accuracy on the dev set : 0.9176 the accuracy on the train set :0.91298 the step size : 0.0001\n",
      "45 the mean loss:0.31306913110826246 the accuracy on the dev set : 0.9178 the accuracy on the train set :0.91328 the step size : 0.0001\n",
      "46 the mean loss:0.31223078070193033 the accuracy on the dev set : 0.918 the accuracy on the train set :0.91356 the step size : 0.0001\n",
      "47 the mean loss:0.3114182364864649 the accuracy on the dev set : 0.918 the accuracy on the train set :0.91386 the step size : 0.0001\n",
      "48 the mean loss:0.31063017182568126 the accuracy on the dev set : 0.9183 the accuracy on the train set :0.91418 the step size : 0.0001\n",
      "49 the mean loss:0.30986535383821645 the accuracy on the dev set : 0.9186 the accuracy on the train set :0.9144 the step size : 0.0001\n",
      "50 the mean loss:0.3091226350164304 the accuracy on the dev set : 0.9187 the accuracy on the train set :0.91456 the step size : 0.0001\n",
      "51 the mean loss:0.3084009457479989 the accuracy on the dev set : 0.9185 the accuracy on the train set :0.91476 the step size : 0.0001\n",
      "52 the mean loss:0.30769928762698673 the accuracy on the dev set : 0.9185 the accuracy on the train set :0.91514 the step size : 0.0001\n",
      "53 the mean loss:0.30701672745726 the accuracy on the dev set : 0.9187 the accuracy on the train set :0.9152 the step size : 0.0001\n",
      "54 the mean loss:0.30635239186470375 the accuracy on the dev set : 0.9188 the accuracy on the train set :0.91528 the step size : 0.0001\n",
      "55 the mean loss:0.3057054624462342 the accuracy on the dev set : 0.9189 the accuracy on the train set :0.91562 the step size : 0.0001\n",
      "56 the mean loss:0.3050751713930971 the accuracy on the dev set : 0.9188 the accuracy on the train set :0.91586 the step size : 0.0001\n",
      "57 the mean loss:0.3044607975344514 the accuracy on the dev set : 0.9192 the accuracy on the train set :0.916 the step size : 0.0001\n",
      "58 the mean loss:0.3038616627540571 the accuracy on the dev set : 0.9193 the accuracy on the train set :0.91604 the step size : 0.0001\n",
      "59 the mean loss:0.30327712873900453 the accuracy on the dev set : 0.9195 the accuracy on the train set :0.91628 the step size : 0.0001\n",
      "60 the mean loss:0.3027065940245735 the accuracy on the dev set : 0.9196 the accuracy on the train set :0.91634 the step size : 0.0001\n"
     ]
    },
    {
     "name": "stdout",
     "output_type": "stream",
     "text": [
      "61 the mean loss:0.30214949130367436 the accuracy on the dev set : 0.9195 the accuracy on the train set :0.91644 the step size : 0.0001\n",
      "62 the mean loss:0.30160528497323447 the accuracy on the dev set : 0.9196 the accuracy on the train set :0.91654 the step size : 0.0001\n",
      "63 the mean loss:0.30107346889313363 the accuracy on the dev set : 0.9198 the accuracy on the train set :0.91668 the step size : 0.0001\n",
      "64 the mean loss:0.30055356433617175 the accuracy on the dev set : 0.9202 the accuracy on the train set :0.91686 the step size : 0.0001\n",
      "65 the mean loss:0.30004511811003465 the accuracy on the dev set : 0.9205 the accuracy on the train set :0.91712 the step size : 0.0001\n",
      "66 the mean loss:0.2995477008344187 the accuracy on the dev set : 0.9205 the accuracy on the train set :0.9173 the step size : 0.0001\n",
      "67 the mean loss:0.29906090535830004 the accuracy on the dev set : 0.9204 the accuracy on the train set :0.91738 the step size : 0.0001\n",
      "68 the mean loss:0.29858434530402306 the accuracy on the dev set : 0.9206 the accuracy on the train set :0.91756 the step size : 0.0001\n",
      "69 the mean loss:0.2981176537263778 the accuracy on the dev set : 0.9208 the accuracy on the train set :0.91776 the step size : 0.0001\n",
      "70 the mean loss:0.29766048187599836 the accuracy on the dev set : 0.9209 the accuracy on the train set :0.91784 the step size : 0.0001\n",
      "71 the mean loss:0.2972124980576328 the accuracy on the dev set : 0.921 the accuracy on the train set :0.91802 the step size : 0.0001\n",
      "72 the mean loss:0.2967733865747326 the accuracy on the dev set : 0.9212 the accuracy on the train set :0.9181 the step size : 0.0001\n",
      "73 the mean loss:0.296342846752804 the accuracy on the dev set : 0.9211 the accuracy on the train set :0.91824 the step size : 0.0001\n",
      "74 the mean loss:0.2959205920345911 the accuracy on the dev set : 0.921 the accuracy on the train set :0.9183 the step size : 0.0001\n",
      "75 the mean loss:0.2955063491409611 the accuracy on the dev set : 0.9211 the accuracy on the train set :0.91834 the step size : 0.0001\n",
      "76 the mean loss:0.2950998572918476 the accuracy on the dev set : 0.921 the accuracy on the train set :0.91842 the step size : 0.0001\n",
      "77 the mean loss:0.29470086748232427 the accuracy on the dev set : 0.9212 the accuracy on the train set :0.91848 the step size : 0.0001\n",
      "78 the mean loss:0.2943091418092086 the accuracy on the dev set : 0.9214 the accuracy on the train set :0.9186 the step size : 0.0001\n",
      "79 the mean loss:0.2939244528440223 the accuracy on the dev set : 0.9219 the accuracy on the train set :0.91872 the step size : 0.0001\n",
      "80 the mean loss:0.29354658304866443 the accuracy on the dev set : 0.9218 the accuracy on the train set :0.9188 the step size : 0.0001\n",
      "81 the mean loss:0.29317532423036596 the accuracy on the dev set : 0.9219 the accuracy on the train set :0.91888 the step size : 0.0001\n",
      "82 the mean loss:0.29281047703281066 the accuracy on the dev set : 0.9219 the accuracy on the train set :0.91894 the step size : 0.0001\n",
      "83 the mean loss:0.29245185046067484 the accuracy on the dev set : 0.922 the accuracy on the train set :0.919 the step size : 0.0001\n",
      "84 the mean loss:0.2920992614349757 the accuracy on the dev set : 0.9222 the accuracy on the train set :0.91916 the step size : 0.0001\n",
      "85 the mean loss:0.2917525343769264 the accuracy on the dev set : 0.9222 the accuracy on the train set :0.91932 the step size : 0.0001\n",
      "86 the mean loss:0.2914115008181454 the accuracy on the dev set : 0.9222 the accuracy on the train set :0.91938 the step size : 0.0001\n",
      "87 the mean loss:0.2910759990352887 the accuracy on the dev set : 0.9223 the accuracy on the train set :0.91944 the step size : 0.0001\n",
      "88 the mean loss:0.29074587370729266 the accuracy on the dev set : 0.9224 the accuracy on the train set :0.9195 the step size : 0.0001\n",
      "89 the mean loss:0.29042097559363556 the accuracy on the dev set : 0.9224 the accuracy on the train set :0.9196 the step size : 0.0001\n",
      "90 the mean loss:0.2901011612320639 the accuracy on the dev set : 0.9224 the accuracy on the train set :0.9198 the step size : 0.0001\n",
      "91 the mean loss:0.2897862926544247 the accuracy on the dev set : 0.9224 the accuracy on the train set :0.9199 the step size : 0.0001\n",
      "92 the mean loss:0.28947623711937953 the accuracy on the dev set : 0.9224 the accuracy on the train set :0.92004 the step size : 0.0001\n",
      "93 the mean loss:0.28917086686077864 the accuracy on the dev set : 0.9224 the accuracy on the train set :0.92004 the step size : 0.0001\n",
      "94 the mean loss:0.28887005885060385 the accuracy on the dev set : 0.9225 the accuracy on the train set :0.92008 the step size : 0.0001\n",
      "95 the mean loss:0.2885736945756054 the accuracy on the dev set : 0.9224 the accuracy on the train set :0.9201 the step size : 0.0001\n",
      "96 the mean loss:0.2882816598265574 the accuracy on the dev set : 0.9223 the accuracy on the train set :0.9203 the step size : 0.0001\n",
      "97 the mean loss:0.2879938444994544 the accuracy on the dev set : 0.9224 the accuracy on the train set :0.92038 the step size : 0.0001\n",
      "98 the mean loss:0.2877101424077108 the accuracy on the dev set : 0.9224 the accuracy on the train set :0.92038 the step size : 0.0001\n",
      "99 the mean loss:0.28743045110477683 the accuracy on the dev set : 0.9222 the accuracy on the train set :0.92054 the step size : 0.0001\n"
     ]
    }
   ],
   "source": [
    "g_i, m_loss, train_acc, dev_acc, test_acc = training(step, n_epochs , verbose = True)"
   ]
  },
  {
   "cell_type": "code",
   "execution_count": 3,
   "metadata": {},
   "outputs": [
    {
     "ename": "NameError",
     "evalue": "name 'm_loss' is not defined",
     "output_type": "error",
     "traceback": [
      "\u001b[0;31m---------------------------------------------------------------------------\u001b[0m",
      "\u001b[0;31mNameError\u001b[0m                                 Traceback (most recent call last)",
      "\u001b[0;32m<ipython-input-3-0a9e6def145e>\u001b[0m in \u001b[0;36m<module>\u001b[0;34m()\u001b[0m\n\u001b[0;32m----> 1\u001b[0;31m \u001b[0mplt\u001b[0m\u001b[0;34m.\u001b[0m\u001b[0mplot\u001b[0m\u001b[0;34m(\u001b[0m\u001b[0mm_loss\u001b[0m\u001b[0;34m,\u001b[0m\u001b[0mlabel\u001b[0m\u001b[0;34m=\u001b[0m\u001b[0;34m'mean_loss'\u001b[0m\u001b[0;34m)\u001b[0m\u001b[0;34m\u001b[0m\u001b[0m\n\u001b[0m\u001b[1;32m      2\u001b[0m \u001b[0mplt\u001b[0m\u001b[0;34m.\u001b[0m\u001b[0mxlabel\u001b[0m\u001b[0;34m(\u001b[0m\u001b[0;34m\"epoch\"\u001b[0m\u001b[0;34m)\u001b[0m\u001b[0;34m\u001b[0m\u001b[0m\n\u001b[1;32m      3\u001b[0m \u001b[0mplt\u001b[0m\u001b[0;34m.\u001b[0m\u001b[0mylabel\u001b[0m\u001b[0;34m(\u001b[0m\u001b[0;34m\"Negative log-likelihood\"\u001b[0m\u001b[0;34m)\u001b[0m\u001b[0;34m\u001b[0m\u001b[0m\n\u001b[1;32m      4\u001b[0m \u001b[0mplt\u001b[0m\u001b[0;34m.\u001b[0m\u001b[0mlegend\u001b[0m\u001b[0;34m(\u001b[0m\u001b[0;34m)\u001b[0m\u001b[0;34m\u001b[0m\u001b[0m\n\u001b[1;32m      5\u001b[0m \u001b[0mtest_acc\u001b[0m\u001b[0;34m\u001b[0m\u001b[0m\n",
      "\u001b[0;31mNameError\u001b[0m: name 'm_loss' is not defined"
     ]
    }
   ],
   "source": [
    "plt.plot(m_loss,label='mean_loss')\n",
    "plt.xlabel(\"epoch\")\n",
    "plt.ylabel(\"Negative log-likelihood\")\n",
    "plt.legend()\n",
    "test_acc"
   ]
  },
  {
   "cell_type": "code",
   "execution_count": 33,
   "metadata": {},
   "outputs": [
    {
     "data": {
      "text/plain": [
       "<matplotlib.legend.Legend at 0x7f278fd63278>"
      ]
     },
     "execution_count": 33,
     "metadata": {},
     "output_type": "execute_result"
    },
    {
     "data": {
      "image/png": "[encoded data removed]",
      "text/plain": [
       "<Figure size 864x432 with 1 Axes>"
      ]
     },
     "metadata": {},
     "output_type": "display_data"
    }
   ],
   "source": [
    "plt.figure(figsize = (12,6))\n",
    "plt.plot(train_acc,label='train_acc')\n",
    "plt.plot(dev_acc,label='valid_acc')\n",
    "plt.plot(test_acc,label='test_acc')\n",
    "plt.xlabel(\"epoch\")\n",
    "plt.ylabel(\"Classification accuracy\")\n",
    "#plt.ylim([0.,1.])\n",
    "plt.legend()"
   ]
  },
  {
   "cell_type": "code",
   "execution_count": null,
   "metadata": {},
   "outputs": [
    {
     "name": "stderr",
     "output_type": "stream",
     "text": [
      "/home/wafe/anaconda3/lib/python3.6/site-packages/ipykernel_launcher.py:5: MatplotlibDeprecationWarning: Adding an axes using the same arguments as a previous axes currently reuses the earlier instance.  In a future version, a new instance will always be created and returned.  Meanwhile, this warning can be suppressed, and the future behavior ensured, by passing a unique label to each axes instance.\n",
      "  \"\"\"\n",
      "/home/wafe/anaconda3/lib/python3.6/site-packages/ipykernel_launcher.py:12: MatplotlibDeprecationWarning: Adding an axes using the same arguments as a previous axes currently reuses the earlier instance.  In a future version, a new instance will always be created and returned.  Meanwhile, this warning can be suppressed, and the future behavior ensured, by passing a unique label to each axes instance.\n",
      "  if sys.path[0] == '':\n"
     ]
    }
   ],
   "source": [
    "plt.figure(figsize = (15,15))\n",
    "for step in [.001,0.01,0.1,1.0,10.]:\n",
    "    g_i, m_loss, train_acc, dev_acc, test_acc = training(step, 50 , verbose = False)\n",
    "    \n",
    "    plt.subplot(211)\n",
    "    plt.plot(m_loss,label='train_loss. step size = ' +str(step))\n",
    "    #plt.plot(g_i,g_valid_loss,label='valid_loss. eta = ' +str(eta))\n",
    "    plt.xlabel(\"epoch\")\n",
    "    plt.ylabel(\"Negative log-likelihood\")\n",
    "    plt.legend()\n",
    "    \n",
    "    plt.subplot(212)\n",
    "    \n",
    "    plt.plot(train_acc,label='train_acc. step size = ' +str(step))\n",
    "    #plt.plot(g_i,1- g_valid_acc,label='valid_acc. eta = ' +str(eta))\n",
    "    plt.xlabel(\"epoch\")\n",
    "    plt.ylabel(\"Classification error\")\n",
    "    plt.ylim([0.,1.])\n",
    "    plt.legend()"
   ]
  },
  {
   "cell_type": "code",
   "execution_count": null,
   "metadata": {
    "collapsed": true
   },
   "outputs": [],
   "source": []
  },
  {
   "cell_type": "code",
   "execution_count": null,
   "metadata": {
    "collapsed": true
   },
   "outputs": [],
   "source": []
  },
  {
   "cell_type": "code",
   "execution_count": null,
   "metadata": {
    "collapsed": true
   },
   "outputs": [],
   "source": []
  },
  {
   "cell_type": "code",
   "execution_count": null,
   "metadata": {
    "collapsed": true
   },
   "outputs": [],
   "source": []
  }
 ],
 "metadata": {
  "anaconda-cloud": {},
  "kernelspec": {
   "display_name": "Python 3",
   "language": "python",
   "name": "python3"
  },
  "language_info": {
   "codemirror_mode": {
    "name": "ipython",
    "version": 3
   },
   "file_extension": ".py",
   "mimetype": "text/x-python",
   "name": "python",
   "nbconvert_exporter": "python",
   "pygments_lexer": "ipython3",
   "version": "3.6.3"
  }
 },
 "nbformat": 4,
 "nbformat_minor": 1
}
